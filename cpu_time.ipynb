{
 "cells": [
  {
   "attachments": {},
   "cell_type": "markdown",
   "metadata": {},
   "source": [
    "# 1. Calculo de tiempo de ejecución"
   ]
  },
  {
   "cell_type": "code",
   "execution_count": 1,
   "metadata": {},
   "outputs": [
    {
     "name": "stdout",
     "output_type": "stream",
     "text": [
      "La duración del cálculo de la simulación Monte Carlo con n_it = 10^1 es de 0.0625 segundos\n",
      "La duración del cálculo de la simulación Monte Carlo con n_it = 10^2 es de 1.359375 segundos\n",
      "La duración del cálculo de la simulación Monte Carlo con n_it = 10^3 es de 25.25 segundos\n"
     ]
    },
    {
     "ename": "KeyboardInterrupt",
     "evalue": "",
     "output_type": "error",
     "traceback": [
      "\u001b[1;31m---------------------------------------------------------------------------\u001b[0m",
      "\u001b[1;31mKeyboardInterrupt\u001b[0m                         Traceback (most recent call last)",
      "\u001b[1;32mc:\\Users\\joanb\\Desktop\\PyTorch\\cpu_time.ipynb Cell 2\u001b[0m in \u001b[0;36m<cell line: 6>\u001b[1;34m()\u001b[0m\n\u001b[0;32m     <a href='vscode-notebook-cell:/c%3A/Users/joanb/Desktop/PyTorch/cpu_time.ipynb#W0sZmlsZQ%3D%3D?line=11'>12</a>\u001b[0m grid \u001b[39m=\u001b[39m Grid(N\u001b[39m=\u001b[39m\u001b[39m11\u001b[39m)\n\u001b[0;32m     <a href='vscode-notebook-cell:/c%3A/Users/joanb/Desktop/PyTorch/cpu_time.ipynb#W0sZmlsZQ%3D%3D?line=12'>13</a>\u001b[0m grid\u001b[39m.\u001b[39m__param__(K\u001b[39m=\u001b[39m\u001b[39m10\u001b[39m)\n\u001b[1;32m---> <a href='vscode-notebook-cell:/c%3A/Users/joanb/Desktop/PyTorch/cpu_time.ipynb#W0sZmlsZQ%3D%3D?line=13'>14</a>\u001b[0m grid\u001b[39m.\u001b[39;49mMonteCarlo(n_it\u001b[39m=\u001b[39;49m\u001b[39m10\u001b[39;49m\u001b[39m*\u001b[39;49m\u001b[39m*\u001b[39;49mi)\n\u001b[0;32m     <a href='vscode-notebook-cell:/c%3A/Users/joanb/Desktop/PyTorch/cpu_time.ipynb#W0sZmlsZQ%3D%3D?line=14'>15</a>\u001b[0m grid\u001b[39m.\u001b[39mdf_MC\n\u001b[0;32m     <a href='vscode-notebook-cell:/c%3A/Users/joanb/Desktop/PyTorch/cpu_time.ipynb#W0sZmlsZQ%3D%3D?line=16'>17</a>\u001b[0m \u001b[39m# Measure the end time\u001b[39;00m\n",
      "File \u001b[1;32mc:\\Users\\joanb\\Desktop\\PyTorch\\torch_smodel.py:262\u001b[0m, in \u001b[0;36mGrid.MonteCarlo\u001b[1;34m(self, n_it, input, data)\u001b[0m\n\u001b[0;32m    260\u001b[0m \u001b[39mself\u001b[39m\u001b[39m.\u001b[39m\u001b[39m__init__\u001b[39m(N\u001b[39m=\u001b[39m\u001b[39mself\u001b[39m\u001b[39m.\u001b[39mN)\n\u001b[0;32m    261\u001b[0m \u001b[39mself\u001b[39m\u001b[39m.\u001b[39m__param__()\n\u001b[1;32m--> 262\u001b[0m \u001b[39mself\u001b[39;49m\u001b[39m.\u001b[39;49mExpansion(seed_value\u001b[39m=\u001b[39;49mseed, \u001b[39minput\u001b[39;49m\u001b[39m=\u001b[39;49m\u001b[39mTrue\u001b[39;49;00m, data\u001b[39m=\u001b[39;49m\u001b[39mself\u001b[39;49m\u001b[39m.\u001b[39;49mdataMC)\n\u001b[0;32m    263\u001b[0m \u001b[39mself\u001b[39m\u001b[39m.\u001b[39mX0 \u001b[39m+\u001b[39m\u001b[39m=\u001b[39m (\u001b[39mself\u001b[39m\u001b[39m.\u001b[39mS\u001b[39m==\u001b[39m\u001b[39m0\u001b[39m)\u001b[39m*\u001b[39m\u001b[39m1.\u001b[39m\n\u001b[0;32m    264\u001b[0m \u001b[39mself\u001b[39m\u001b[39m.\u001b[39mX1 \u001b[39m+\u001b[39m\u001b[39m=\u001b[39m (\u001b[39mself\u001b[39m\u001b[39m.\u001b[39mS\u001b[39m==\u001b[39m\u001b[39m1\u001b[39m)\u001b[39m*\u001b[39m\u001b[39m1.\u001b[39m\n",
      "File \u001b[1;32mc:\\Users\\joanb\\Desktop\\PyTorch\\torch_smodel.py:241\u001b[0m, in \u001b[0;36mGrid.Expansion\u001b[1;34m(self, seed_value, input, data, tau)\u001b[0m\n\u001b[0;32m    239\u001b[0m \u001b[39mself\u001b[39m\u001b[39m.\u001b[39mneighbourhood_relation()\n\u001b[0;32m    240\u001b[0m \u001b[39mself\u001b[39m\u001b[39m.\u001b[39mP[:, :, L] \u001b[39m=\u001b[39m \u001b[39mself\u001b[39m\u001b[39m.\u001b[39mneigh_prob\u001b[39m.\u001b[39mclone()\n\u001b[1;32m--> 241\u001b[0m \u001b[39mself\u001b[39;49m\u001b[39m.\u001b[39;49mupdate(inc\u001b[39m=\u001b[39;49m\u001b[39mself\u001b[39;49m\u001b[39m.\u001b[39;49minc, tau\u001b[39m=\u001b[39;49mtau)\n\u001b[0;32m    242\u001b[0m \u001b[39mself\u001b[39m\u001b[39m.\u001b[39mS[:, :, L\u001b[39m+\u001b[39m\u001b[39m1\u001b[39m] \u001b[39m=\u001b[39m \u001b[39mself\u001b[39m\u001b[39m.\u001b[39mstate\u001b[39m.\u001b[39mclone()\n\u001b[0;32m    243\u001b[0m \u001b[39mself\u001b[39m\u001b[39m.\u001b[39mwrite_df(theta\u001b[39m=\u001b[39mtheta, rho\u001b[39m=\u001b[39mrho)\n",
      "File \u001b[1;32mc:\\Users\\joanb\\Desktop\\PyTorch\\torch_smodel.py:205\u001b[0m, in \u001b[0;36mGrid.update\u001b[1;34m(self, inc, tau)\u001b[0m\n\u001b[0;32m    202\u001b[0m     \u001b[39mself\u001b[39m\u001b[39m.\u001b[39mstate[ind] \u001b[39m=\u001b[39m F\u001b[39m.\u001b[39mgumbel_softmax(logits\u001b[39m=\u001b[39mlogit, hard\u001b[39m=\u001b[39m\u001b[39mTrue\u001b[39;00m)[\u001b[39m0\u001b[39m] \n\u001b[0;32m    204\u001b[0m \u001b[39mself\u001b[39m\u001b[39m.\u001b[39mcont[\u001b[39mself\u001b[39m\u001b[39m.\u001b[39mstate\u001b[39m==\u001b[39m\u001b[39m1\u001b[39m] \u001b[39m+\u001b[39m\u001b[39m=\u001b[39m \u001b[39m1\u001b[39m\n\u001b[1;32m--> 205\u001b[0m id_x \u001b[39m=\u001b[39m np\u001b[39m.\u001b[39;49mwhere(\u001b[39mself\u001b[39;49m\u001b[39m.\u001b[39;49mstate\u001b[39m==\u001b[39;49m\u001b[39m1\u001b[39;49m)[\u001b[39m0\u001b[39m]\n\u001b[0;32m    206\u001b[0m id_y \u001b[39m=\u001b[39m np\u001b[39m.\u001b[39mwhere(\u001b[39mself\u001b[39m\u001b[39m.\u001b[39mstate\u001b[39m==\u001b[39m\u001b[39m1\u001b[39m)[\u001b[39m1\u001b[39m]\n\u001b[0;32m    207\u001b[0m \u001b[39mself\u001b[39m\u001b[39m.\u001b[39mind \u001b[39m=\u001b[39m \u001b[39mlist\u001b[39m(\u001b[39mzip\u001b[39m(id_x, id_y))\n",
      "File \u001b[1;32m<__array_function__ internals>:177\u001b[0m, in \u001b[0;36mwhere\u001b[1;34m(*args, **kwargs)\u001b[0m\n",
      "\u001b[1;31mKeyboardInterrupt\u001b[0m: "
     ]
    }
   ],
   "source": [
    "from torch_smodel import *\n",
    "import time\n",
    "\n",
    "times = np.zeros(4, dtype=np.float64)\n",
    "\n",
    "for i in range(1, 5):\n",
    "\n",
    "    # Measure the start time\n",
    "    start_time = time.process_time()\n",
    "\n",
    "    # Execute the block of code to be measured\n",
    "    grid = Grid(N=11)\n",
    "    grid.__param__(K=10)\n",
    "    grid.MonteCarlo(n_it=10**i)\n",
    "    grid.df_MC\n",
    "\n",
    "    # Measure the end time\n",
    "    end_time = time.process_time()\n",
    "\n",
    "    # Calculate the CPU time\n",
    "    cpu_time = end_time - start_time\n",
    "\n",
    "    times[i] = cpu_time\n",
    "\n",
    "    print(f'La duración del cálculo de la simulación Monte Carlo con n_it = 10^{i} es de {cpu_time} segundos')"
   ]
  }
 ],
 "metadata": {
  "kernelspec": {
   "display_name": "Python 3",
   "language": "python",
   "name": "python3"
  },
  "language_info": {
   "codemirror_mode": {
    "name": "ipython",
    "version": 3
   },
   "file_extension": ".py",
   "mimetype": "text/x-python",
   "name": "python",
   "nbconvert_exporter": "python",
   "pygments_lexer": "ipython3",
   "version": "3.10.4"
  },
  "orig_nbformat": 4,
  "vscode": {
   "interpreter": {
    "hash": "f8852db887e4898adf41e8dfeeeb2275e3a600f3c56ac76bec9205a61cab2c77"
   }
  }
 },
 "nbformat": 4,
 "nbformat_minor": 2
}

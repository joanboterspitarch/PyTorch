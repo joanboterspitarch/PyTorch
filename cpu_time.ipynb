{
 "cells": [
  {
   "attachments": {},
   "cell_type": "markdown",
   "metadata": {},
   "source": [
    "# 1. Calculo de tiempo de ejecución"
   ]
  },
  {
   "cell_type": "code",
   "execution_count": 4,
   "metadata": {},
   "outputs": [
    {
     "name": "stdout",
     "output_type": "stream",
     "text": [
      "La duración del cálculo de la simulación Monte Carlo con n_it = 100 es de 1.734375 segundos\n",
      "La duración del cálculo de la simulación Monte Carlo con n_it = 500 es de 8.234375 segundos\n",
      "La duración del cálculo de la simulación Monte Carlo con n_it = 1000 es de 16.59375 segundos\n",
      "La duración del cálculo de la simulación Monte Carlo con n_it = 5000 es de 82.421875 segundos\n",
      "La duración del cálculo de la simulación Monte Carlo con n_it = 10000 es de 174.03125 segundos\n",
      "La duración del cálculo de la simulación Monte Carlo con n_it = 50000 es de 841.40625 segundos\n"
     ]
    }
   ],
   "source": [
    "from torch_smodel import *\n",
    "import time\n",
    "\n",
    "n_tests = [100, 500, 1000, 5000, 10000, 50000]\n",
    "times = np.zeros(len(n_tests), dtype=np.float64)\n",
    "\n",
    "ind = 0\n",
    "for i in n_tests:\n",
    "\n",
    "    # Measure the start time\n",
    "    start_time = time.process_time()\n",
    "\n",
    "    # Execute the block of code to be measured\n",
    "    grid = Grid(N=11)\n",
    "    grid.__param__(K=10)\n",
    "    grid.MonteCarlo(n_it=i)\n",
    "    grid.df_MC\n",
    "\n",
    "    # Measure the end time\n",
    "    end_time = time.process_time()\n",
    "\n",
    "    # Calculate the CPU time\n",
    "    cpu_time = end_time - start_time\n",
    "\n",
    "    times[ind] = cpu_time\n",
    "    ind += 1\n",
    "\n",
    "    print(f'La duración del cálculo de la simulación Monte Carlo con n_it = {i} es de {cpu_time} segundos')"
   ]
  },
  {
   "cell_type": "code",
   "execution_count": 5,
   "metadata": {},
   "outputs": [
    {
     "name": "stderr",
     "output_type": "stream",
     "text": [
      "C:\\Users\\joanb\\AppData\\Local\\Temp\\ipykernel_1104\\1217450869.py:3: RuntimeWarning: divide by zero encountered in log\n",
      "  plt.plot(np.linspace(0,50000,50), np.log(np.linspace(0,50000,50)), 'k-.')\n"
     ]
    },
    {
     "data": {
      "image/png": "[encoded data removed]",
      "text/plain": [
       "<Figure size 432x288 with 1 Axes>"
      ]
     },
     "metadata": {
      "needs_background": "light"
     },
     "output_type": "display_data"
    }
   ],
   "source": [
    "plt.plot(n_tests, times, 'r-')\n",
    "plt.plot(np.linspace(0,50000,50), np.linspace(0,50000,50), 'k-.')\n",
    "plt.plot(np.linspace(0,50000,50), np.log(np.linspace(0,50000,50)), 'k-.')\n",
    "plt.xlabel('n_it')\n",
    "plt.ylabel('Tiempo de cálculo (s)')\n",
    "plt.show()"
   ]
  },
  {
   "cell_type": "code",
   "execution_count": 6,
   "metadata": {},
   "outputs": [
    {
     "data": {
      "text/html": [
       "<div>\n",
       "<style scoped>\n",
       "    .dataframe tbody tr th:only-of-type {\n",
       "        vertical-align: middle;\n",
       "    }\n",
       "\n",
       "    .dataframe tbody tr th {\n",
       "        vertical-align: top;\n",
       "    }\n",
       "\n",
       "    .dataframe thead th {\n",
       "        text-align: right;\n",
       "    }\n",
       "</style>\n",
       "<table border=\"1\" class=\"dataframe\">\n",
       "  <thead>\n",
       "    <tr style=\"text-align: right;\">\n",
       "      <th></th>\n",
       "      <th>Theta</th>\n",
       "      <th>Quadrant</th>\n",
       "      <th>Rho</th>\n",
       "      <th>m</th>\n",
       "      <th>Susceptibles</th>\n",
       "      <th>Infecteds</th>\n",
       "      <th>Deads</th>\n",
       "    </tr>\n",
       "  </thead>\n",
       "  <tbody>\n",
       "    <tr>\n",
       "      <th>0</th>\n",
       "      <td>NaN</td>\n",
       "      <td>NaN</td>\n",
       "      <td>NaN</td>\n",
       "      <td>NaN</td>\n",
       "      <td>120.00000</td>\n",
       "      <td>1.00000</td>\n",
       "      <td>0.00000</td>\n",
       "    </tr>\n",
       "    <tr>\n",
       "      <th>1</th>\n",
       "      <td>3.448297</td>\n",
       "      <td>3.0</td>\n",
       "      <td>0.791725</td>\n",
       "      <td>2.0</td>\n",
       "      <td>117.16452</td>\n",
       "      <td>2.83548</td>\n",
       "      <td>1.00000</td>\n",
       "    </tr>\n",
       "    <tr>\n",
       "      <th>2</th>\n",
       "      <td>4.493667</td>\n",
       "      <td>3.0</td>\n",
       "      <td>0.528895</td>\n",
       "      <td>2.0</td>\n",
       "      <td>111.55818</td>\n",
       "      <td>5.60634</td>\n",
       "      <td>3.83548</td>\n",
       "    </tr>\n",
       "    <tr>\n",
       "      <th>3</th>\n",
       "      <td>3.787274</td>\n",
       "      <td>3.0</td>\n",
       "      <td>0.568045</td>\n",
       "      <td>2.0</td>\n",
       "      <td>100.00432</td>\n",
       "      <td>11.55386</td>\n",
       "      <td>9.44182</td>\n",
       "    </tr>\n",
       "    <tr>\n",
       "      <th>4</th>\n",
       "      <td>3.423602</td>\n",
       "      <td>3.0</td>\n",
       "      <td>0.925597</td>\n",
       "      <td>3.0</td>\n",
       "      <td>93.80936</td>\n",
       "      <td>6.19496</td>\n",
       "      <td>20.99568</td>\n",
       "    </tr>\n",
       "    <tr>\n",
       "      <th>5</th>\n",
       "      <td>2.661902</td>\n",
       "      <td>2.0</td>\n",
       "      <td>0.071036</td>\n",
       "      <td>1.0</td>\n",
       "      <td>92.51316</td>\n",
       "      <td>1.29620</td>\n",
       "      <td>27.19064</td>\n",
       "    </tr>\n",
       "    <tr>\n",
       "      <th>6</th>\n",
       "      <td>4.058272</td>\n",
       "      <td>3.0</td>\n",
       "      <td>0.087129</td>\n",
       "      <td>1.0</td>\n",
       "      <td>91.59396</td>\n",
       "      <td>0.91920</td>\n",
       "      <td>28.48684</td>\n",
       "    </tr>\n",
       "    <tr>\n",
       "      <th>7</th>\n",
       "      <td>2.749442</td>\n",
       "      <td>2.0</td>\n",
       "      <td>0.020218</td>\n",
       "      <td>1.0</td>\n",
       "      <td>90.72838</td>\n",
       "      <td>0.86558</td>\n",
       "      <td>29.40604</td>\n",
       "    </tr>\n",
       "    <tr>\n",
       "      <th>8</th>\n",
       "      <td>5.603175</td>\n",
       "      <td>4.0</td>\n",
       "      <td>0.83262</td>\n",
       "      <td>2.0</td>\n",
       "      <td>89.30768</td>\n",
       "      <td>1.42070</td>\n",
       "      <td>30.27162</td>\n",
       "    </tr>\n",
       "    <tr>\n",
       "      <th>9</th>\n",
       "      <td>6.054872</td>\n",
       "      <td>4.0</td>\n",
       "      <td>0.778157</td>\n",
       "      <td>2.0</td>\n",
       "      <td>87.86326</td>\n",
       "      <td>1.44442</td>\n",
       "      <td>31.69232</td>\n",
       "    </tr>\n",
       "    <tr>\n",
       "      <th>10</th>\n",
       "      <td>2.409234</td>\n",
       "      <td>2.0</td>\n",
       "      <td>0.870012</td>\n",
       "      <td>2.0</td>\n",
       "      <td>85.68240</td>\n",
       "      <td>2.18086</td>\n",
       "      <td>33.13674</td>\n",
       "    </tr>\n",
       "  </tbody>\n",
       "</table>\n",
       "</div>"
      ],
      "text/plain": [
       "       Theta Quadrant       Rho    m  Susceptibles  Infecteds     Deads\n",
       "0        NaN      NaN       NaN  NaN     120.00000    1.00000   0.00000\n",
       "1   3.448297      3.0  0.791725  2.0     117.16452    2.83548   1.00000\n",
       "2   4.493667      3.0  0.528895  2.0     111.55818    5.60634   3.83548\n",
       "3   3.787274      3.0  0.568045  2.0     100.00432   11.55386   9.44182\n",
       "4   3.423602      3.0  0.925597  3.0      93.80936    6.19496  20.99568\n",
       "5   2.661902      2.0  0.071036  1.0      92.51316    1.29620  27.19064\n",
       "6   4.058272      3.0  0.087129  1.0      91.59396    0.91920  28.48684\n",
       "7   2.749442      2.0  0.020218  1.0      90.72838    0.86558  29.40604\n",
       "8   5.603175      4.0   0.83262  2.0      89.30768    1.42070  30.27162\n",
       "9   6.054872      4.0  0.778157  2.0      87.86326    1.44442  31.69232\n",
       "10  2.409234      2.0  0.870012  2.0      85.68240    2.18086  33.13674"
      ]
     },
     "execution_count": 6,
     "metadata": {},
     "output_type": "execute_result"
    }
   ],
   "source": [
    "grid.df_MC"
   ]
  },
  {
   "cell_type": "code",
   "execution_count": 12,
   "metadata": {},
   "outputs": [
    {
     "data": {
      "text/plain": [
       "(tensor([[0.0000, 0.0000, 0.0000, 0.0000, 0.0000, 0.0000, 0.0000],\n",
       "         [0.0000, 0.0000, 0.0000, 0.0000, 0.0000, 0.0000, 0.0000],\n",
       "         [0.0000, 0.0000, 0.0000, 0.4767, 0.9533, 0.0000, 0.0000],\n",
       "         [0.0000, 0.0000, 0.0000, 0.3175, 0.3167, 0.3019, 0.0000],\n",
       "         [0.0000, 0.0000, 0.0000, 0.1583, 0.1547, 0.1510, 0.0000],\n",
       "         [0.0000, 0.0000, 0.0000, 0.0000, 0.0000, 0.0000, 0.0000],\n",
       "         [0.0000, 0.0000, 0.0000, 0.0000, 0.0000, 0.0000, 0.0000],\n",
       "         [0.0000, 0.0000, 0.0000, 0.0000, 0.0000, 0.0000, 0.0000]],\n",
       "        dtype=torch.float64),\n",
       " tensor([[1.0000, 1.0000, 1.0000, 1.0000, 1.0000, 1.0000, 1.0000],\n",
       "         [1.0000, 1.0000, 1.0000, 1.0000, 1.0000, 1.0000, 1.0000],\n",
       "         [1.0000, 1.0000, 1.0000, 0.5217, 0.0457, 0.0000, 1.0000],\n",
       "         [1.0000, 1.0000, 1.0000, 0.6841, 0.6839, 0.6999, 1.0000],\n",
       "         [1.0000, 1.0000, 1.0000, 0.8406, 0.8419, 0.8466, 1.0000],\n",
       "         [1.0000, 1.0000, 1.0000, 1.0000, 1.0000, 1.0000, 1.0000],\n",
       "         [1.0000, 1.0000, 1.0000, 1.0000, 1.0000, 1.0000, 1.0000],\n",
       "         [1.0000, 1.0000, 1.0000, 1.0000, 1.0000, 1.0000, 1.0000]],\n",
       "        dtype=torch.float64))"
      ]
     },
     "execution_count": 12,
     "metadata": {},
     "output_type": "execute_result"
    }
   ],
   "source": [
    "grid.P[3:, :7, 0], grid.X0[3:, :7, 1]"
   ]
  },
  {
   "cell_type": "code",
   "execution_count": 1,
   "metadata": {},
   "outputs": [
    {
     "data": {
      "text/plain": [
       "0.0165625"
      ]
     },
     "execution_count": 1,
     "metadata": {},
     "output_type": "execute_result"
    }
   ],
   "source": [
    "from torch_smodel import *\n",
    "import time\n",
    "\n",
    "cpu_time = 0.0\n",
    "times = 0.0\n",
    "\n",
    "for i in range(100):\n",
    "\n",
    "    start_time = time.process_time()\n",
    "\n",
    "    grid = Grid(N=11)\n",
    "    grid.__param__(K=10)\n",
    "    grid.Expansion(seed_value=i)\n",
    "\n",
    "    end_time = time.process_time()\n",
    "\n",
    "    cpu_time = end_time - start_time\n",
    "    times += cpu_time\n",
    "\n",
    "times/100"
   ]
  }
 ],
 "metadata": {
  "kernelspec": {
   "display_name": "Python 3",
   "language": "python",
   "name": "python3"
  },
  "language_info": {
   "codemirror_mode": {
    "name": "ipython",
    "version": 3
   },
   "file_extension": ".py",
   "mimetype": "text/x-python",
   "name": "python",
   "nbconvert_exporter": "python",
   "pygments_lexer": "ipython3",
   "version": "3.10.4"
  },
  "orig_nbformat": 4,
  "vscode": {
   "interpreter": {
    "hash": "f8852db887e4898adf41e8dfeeeb2275e3a600f3c56ac76bec9205a61cab2c77"
   }
  }
 },
 "nbformat": 4,
 "nbformat_minor": 2
}

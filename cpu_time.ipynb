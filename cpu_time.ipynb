{
 "cells": [
  {
   "attachments": {},
   "cell_type": "markdown",
   "metadata": {},
   "source": [
    "# 1. Calculo el tiempo. "
   ]
  },
  {
   "cell_type": "code",
   "execution_count": 10,
   "metadata": {},
   "outputs": [
    {
     "name": "stdout",
     "output_type": "stream",
     "text": [
      "La duración del cálculo de la simulación Monte Carlo con n_it = 10^1 es de 0.390625 segundos\n",
      "La duración del cálculo de la simulación Monte Carlo con n_it = 10^2 es de 2.828125 segundos\n",
      "La duración del cálculo de la simulación Monte Carlo con n_it = 10^3 es de 28.5 segundos\n",
      "La duración del cálculo de la simulación Monte Carlo con n_it = 10^4 es de 290.65625 segundos\n"
     ]
    },
    {
     "ename": "KeyboardInterrupt",
     "evalue": "",
     "output_type": "error",
     "traceback": [
      "\u001b[1;31m---------------------------------------------------------------------------\u001b[0m",
      "\u001b[1;31mKeyboardInterrupt\u001b[0m                         Traceback (most recent call last)",
      "\u001b[1;32mc:\\Users\\joanb\\Desktop\\PyTorch\\cpu_time.ipynb Cell 2\u001b[0m in \u001b[0;36m<cell line: 3>\u001b[1;34m()\u001b[0m\n\u001b[0;32m      <a href='vscode-notebook-cell:/c%3A/Users/joanb/Desktop/PyTorch/cpu_time.ipynb#W2sZmlsZQ%3D%3D?line=8'>9</a>\u001b[0m grid \u001b[39m=\u001b[39m Grid(N\u001b[39m=\u001b[39m\u001b[39m11\u001b[39m, K\u001b[39m=\u001b[39m\u001b[39m10\u001b[39m)\n\u001b[0;32m     <a href='vscode-notebook-cell:/c%3A/Users/joanb/Desktop/PyTorch/cpu_time.ipynb#W2sZmlsZQ%3D%3D?line=9'>10</a>\u001b[0m grid\u001b[39m.\u001b[39m__param__()\n\u001b[1;32m---> <a href='vscode-notebook-cell:/c%3A/Users/joanb/Desktop/PyTorch/cpu_time.ipynb#W2sZmlsZQ%3D%3D?line=10'>11</a>\u001b[0m grid\u001b[39m.\u001b[39;49mMonteCarlo(n_it\u001b[39m=\u001b[39;49m\u001b[39m10\u001b[39;49m\u001b[39m*\u001b[39;49m\u001b[39m*\u001b[39;49mi)\n\u001b[0;32m     <a href='vscode-notebook-cell:/c%3A/Users/joanb/Desktop/PyTorch/cpu_time.ipynb#W2sZmlsZQ%3D%3D?line=11'>12</a>\u001b[0m grid\u001b[39m.\u001b[39mdf_MC\n\u001b[0;32m     <a href='vscode-notebook-cell:/c%3A/Users/joanb/Desktop/PyTorch/cpu_time.ipynb#W2sZmlsZQ%3D%3D?line=13'>14</a>\u001b[0m \u001b[39m# Measure the end time\u001b[39;00m\n",
      "File \u001b[1;32mc:\\Users\\joanb\\Desktop\\PyTorch\\torch_smodel.py:398\u001b[0m, in \u001b[0;36mGrid.MonteCarlo\u001b[1;34m(self, n_it, input, data, tau)\u001b[0m\n\u001b[0;32m    396\u001b[0m \u001b[39mself\u001b[39m\u001b[39m.\u001b[39mneigh_prob \u001b[39m=\u001b[39m padding[\u001b[39m3\u001b[39m:\u001b[39m-\u001b[39m\u001b[39m3\u001b[39m, \u001b[39m3\u001b[39m:\u001b[39m-\u001b[39m\u001b[39m3\u001b[39m]\u001b[39m.\u001b[39mclone()\n\u001b[0;32m    397\u001b[0m \u001b[39mself\u001b[39m\u001b[39m.\u001b[39mP[:, :, L] \u001b[39m=\u001b[39m \u001b[39mself\u001b[39m\u001b[39m.\u001b[39mneigh_prob\u001b[39m.\u001b[39mclone()\n\u001b[1;32m--> 398\u001b[0m \u001b[39mself\u001b[39;49m\u001b[39m.\u001b[39;49mupdate(tau\u001b[39m=\u001b[39;49mtau)\n\u001b[0;32m    399\u001b[0m \u001b[39mself\u001b[39m\u001b[39m.\u001b[39mS[:, :, L\u001b[39m+\u001b[39m\u001b[39m1\u001b[39m] \u001b[39m=\u001b[39m \u001b[39mself\u001b[39m\u001b[39m.\u001b[39mstate\u001b[39m.\u001b[39mclone()\n\u001b[0;32m    400\u001b[0m \u001b[39mself\u001b[39m\u001b[39m.\u001b[39mwrite_df(step\u001b[39m=\u001b[39mL\u001b[39m+\u001b[39m\u001b[39m1\u001b[39m)\n",
      "File \u001b[1;32mc:\\Users\\joanb\\Desktop\\PyTorch\\torch_smodel.py:211\u001b[0m, in \u001b[0;36mGrid.update\u001b[1;34m(self, tau)\u001b[0m\n\u001b[0;32m    206\u001b[0m logits \u001b[39m=\u001b[39m torch\u001b[39m.\u001b[39mstack([\u001b[39m1\u001b[39m \u001b[39m-\u001b[39m \u001b[39mself\u001b[39m\u001b[39m.\u001b[39mneigh_prob, \u001b[39mself\u001b[39m\u001b[39m.\u001b[39mneigh_prob], dim\u001b[39m=\u001b[39m\u001b[39m-\u001b[39m\u001b[39m1\u001b[39m)\u001b[39m.\u001b[39mflatten()\u001b[39m.\u001b[39mview((\u001b[39mself\u001b[39m\u001b[39m.\u001b[39mN, \u001b[39mself\u001b[39m\u001b[39m.\u001b[39mN, \u001b[39m2\u001b[39m))\u001b[39m.\u001b[39mlog()\n\u001b[0;32m    207\u001b[0m \u001b[39m#self.state[torch.logical_and(self.neigh_prob >= 1, self.state==0)] = 1\u001b[39;00m\n\u001b[0;32m    208\u001b[0m \u001b[39m#self.state[torch.logical_and(self.neigh_prob <= 0, self.state==0)] = 0\u001b[39;00m\n\u001b[0;32m    209\u001b[0m \n\u001b[0;32m    210\u001b[0m \u001b[39m#actualizamos probabilidades entre 0 y 1\u001b[39;00m\n\u001b[1;32m--> 211\u001b[0m pos \u001b[39m=\u001b[39m torch\u001b[39m.\u001b[39mlogical_and(\u001b[39mself\u001b[39m\u001b[39m.\u001b[39mstate\u001b[39m==\u001b[39m\u001b[39m0\u001b[39m, torch\u001b[39m.\u001b[39;49mlogical_and(\u001b[39mself\u001b[39;49m\u001b[39m.\u001b[39;49mneigh_prob \u001b[39m<\u001b[39;49m \u001b[39m1\u001b[39;49m, \u001b[39mself\u001b[39;49m\u001b[39m.\u001b[39;49mneigh_prob \u001b[39m>\u001b[39;49m \u001b[39m0\u001b[39;49m))\n\u001b[0;32m    212\u001b[0m upd \u001b[39m=\u001b[39m F\u001b[39m.\u001b[39mgumbel_softmax(logits\u001b[39m=\u001b[39mlogits, tau\u001b[39m=\u001b[39mtau, hard\u001b[39m=\u001b[39m\u001b[39mTrue\u001b[39;00m)\u001b[39m.\u001b[39mindex_select(dim\u001b[39m=\u001b[39m\u001b[39m2\u001b[39m, index\u001b[39m=\u001b[39mtorch\u001b[39m.\u001b[39mtensor([\u001b[39m1\u001b[39m]))\u001b[39m.\u001b[39msqueeze()\n\u001b[0;32m    213\u001b[0m \u001b[39m#self.state = torch.where(\u001b[39;00m\n\u001b[0;32m    214\u001b[0m \u001b[39m#    torch.logical_and(self.state==0, torch.logical_and(self.neigh_prob < 1, self.neigh_prob > 0)),\u001b[39;00m\n\u001b[0;32m    215\u001b[0m \u001b[39m#    F.gumbel_softmax(logits=logits, tau=tau, hard=True).index_select(dim=2, index=torch.tensor([1])).squeeze(),\u001b[39;00m\n\u001b[0;32m    216\u001b[0m \u001b[39m#    self.state\u001b[39;00m\n\u001b[0;32m    217\u001b[0m \u001b[39m#)\u001b[39;00m\n",
      "\u001b[1;31mKeyboardInterrupt\u001b[0m: "
     ]
    }
   ],
   "source": [
    "from torch_smodel import *\n",
    "import time\n",
    "\n",
    "times = np.zeros(5, dtype=np.float64)\n",
    "\n",
    "for i in range(1, 6):\n",
    "\n",
    "    # Measure the start time\n",
    "    start_time = time.process_time()\n",
    "\n",
    "    # Execute the block of code to be measured\n",
    "    grid = Grid(N=11, K=10)\n",
    "    grid.__param__()\n",
    "    grid.MonteCarlo(n_it=10**i)\n",
    "    grid.df_MC\n",
    "\n",
    "    # Measure the end time\n",
    "    end_time = time.process_time()\n",
    "\n",
    "    # Calculate the CPU time\n",
    "    cpu_time = end_time - start_time\n",
    "\n",
    "    times[i] = cpu_time\n",
    "\n",
    "    print(f'La duración del cálculo de la simulación Monte Carlo con n_it = 10^{i} es de {cpu_time} segundos')"
   ]
  },
  {
   "cell_type": "code",
   "execution_count": null,
   "metadata": {},
   "outputs": [],
   "source": [
    "grid.df_MC"
   ]
  },
  {
   "cell_type": "code",
   "execution_count": null,
   "metadata": {},
   "outputs": [
    {
     "data": {
      "text/plain": [
       "array([0.015625, 0.421875, 2.859375, 0.      , 0.      ])"
      ]
     },
     "execution_count": 5,
     "metadata": {},
     "output_type": "execute_result"
    }
   ],
   "source": [
    "times"
   ]
  }
 ],
 "metadata": {
  "kernelspec": {
   "display_name": "Python 3",
   "language": "python",
   "name": "python3"
  },
  "language_info": {
   "codemirror_mode": {
    "name": "ipython",
    "version": 3
   },
   "file_extension": ".py",
   "mimetype": "text/x-python",
   "name": "python",
   "nbconvert_exporter": "python",
   "pygments_lexer": "ipython3",
   "version": "3.10.4"
  },
  "orig_nbformat": 4,
  "vscode": {
   "interpreter": {
    "hash": "f8852db887e4898adf41e8dfeeeb2275e3a600f3c56ac76bec9205a61cab2c77"
   }
  }
 },
 "nbformat": 4,
 "nbformat_minor": 2
}

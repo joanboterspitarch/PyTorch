{
 "cells": [
  {
   "attachments": {},
   "cell_type": "markdown",
   "metadata": {},
   "source": [
    "# 1. Calculo el tiempo. "
   ]
  },
  {
   "cell_type": "code",
   "execution_count": 1,
   "metadata": {},
   "outputs": [
    {
     "name": "stdout",
     "output_type": "stream",
     "text": [
      "La duración del cálculo de la simulación Monte Carlo con n_it = 100 es de 3.015625 segundos\n",
      "La duración del cálculo de la simulación Monte Carlo con n_it = 500 es de 12.8125 segundos\n",
      "La duración del cálculo de la simulación Monte Carlo con n_it = 1000 es de 24.9375 segundos\n",
      "La duración del cálculo de la simulación Monte Carlo con n_it = 5000 es de 130.796875 segundos\n",
      "La duración del cálculo de la simulación Monte Carlo con n_it = 10000 es de 268.109375 segundos\n",
      "La duración del cálculo de la simulación Monte Carlo con n_it = 50000 es de 1132.828125 segundos\n"
     ]
    }
   ],
   "source": [
    "from torch_smodel import *\n",
    "import time\n",
    "\n",
    "n_tests = [100, 500, 1000, 5000, 10000, 50000]\n",
    "times = np.zeros(len(n_tests), dtype=np.float64)\n",
    "\n",
    "ind = 0\n",
    "for i in n_tests:\n",
    "\n",
    "    # Measure the start time\n",
    "    start_time = time.process_time()\n",
    "\n",
    "    # Execute the block of code to be measured\n",
    "    grid = Grid(N=11, K=10)\n",
    "    grid.__param__()\n",
    "    grid.MonteCarlo(n_it=i)\n",
    "    grid.df_MC\n",
    "\n",
    "    # Measure the end time\n",
    "    end_time = time.process_time()\n",
    "\n",
    "    # Calculate the CPU time\n",
    "    cpu_time = end_time - start_time\n",
    "\n",
    "    times[ind] = cpu_time\n",
    "    ind += 1\n",
    "\n",
    "    print(f'La duración del cálculo de la simulación Monte Carlo con n_it = {i} es de {cpu_time} segundos')"
   ]
  },
  {
   "cell_type": "code",
   "execution_count": 2,
   "metadata": {},
   "outputs": [
    {
     "name": "stderr",
     "output_type": "stream",
     "text": [
      "C:\\Users\\joanb\\AppData\\Local\\Temp\\ipykernel_12972\\1217450869.py:3: RuntimeWarning: divide by zero encountered in log\n",
      "  plt.plot(np.linspace(0,50000,50), np.log(np.linspace(0,50000,50)), 'k-.')\n"
     ]
    },
    {
     "data": {
      "image/png": "[encoded data removed]",
      "text/plain": [
       "<Figure size 432x288 with 1 Axes>"
      ]
     },
     "metadata": {
      "needs_background": "light"
     },
     "output_type": "display_data"
    }
   ],
   "source": [
    "plt.plot(n_tests, times, 'r-')\n",
    "plt.plot(np.linspace(0,50000,50), np.linspace(0,50000,50), 'k-.')\n",
    "plt.plot(np.linspace(0,50000,50), np.log(np.linspace(0,50000,50)), 'k-.')\n",
    "plt.xlabel('n_it')\n",
    "plt.ylabel('Tiempo de cálculo (s)')\n",
    "plt.show()"
   ]
  },
  {
   "cell_type": "code",
   "execution_count": 3,
   "metadata": {},
   "outputs": [
    {
     "data": {
      "text/html": [
       "<div>\n",
       "<style scoped>\n",
       "    .dataframe tbody tr th:only-of-type {\n",
       "        vertical-align: middle;\n",
       "    }\n",
       "\n",
       "    .dataframe tbody tr th {\n",
       "        vertical-align: top;\n",
       "    }\n",
       "\n",
       "    .dataframe thead th {\n",
       "        text-align: right;\n",
       "    }\n",
       "</style>\n",
       "<table border=\"1\" class=\"dataframe\">\n",
       "  <thead>\n",
       "    <tr style=\"text-align: right;\">\n",
       "      <th></th>\n",
       "      <th>Theta</th>\n",
       "      <th>Quadrant</th>\n",
       "      <th>Xi</th>\n",
       "      <th>Rho</th>\n",
       "      <th>m</th>\n",
       "      <th>Susceptibles</th>\n",
       "      <th>Infecteds</th>\n",
       "      <th>Deads</th>\n",
       "    </tr>\n",
       "  </thead>\n",
       "  <tbody>\n",
       "    <tr>\n",
       "      <th>0</th>\n",
       "      <td>0.0</td>\n",
       "      <td>0.0</td>\n",
       "      <td>0.0</td>\n",
       "      <td>0.0</td>\n",
       "      <td>0.0</td>\n",
       "      <td>120.0</td>\n",
       "      <td>1.0</td>\n",
       "      <td>0.0</td>\n",
       "    </tr>\n",
       "    <tr>\n",
       "      <th>1</th>\n",
       "      <td>3.448297</td>\n",
       "      <td>3.0</td>\n",
       "      <td>0.306704</td>\n",
       "      <td>0.791725</td>\n",
       "      <td>2.0</td>\n",
       "      <td>117.17602</td>\n",
       "      <td>2.82398</td>\n",
       "      <td>1.0</td>\n",
       "    </tr>\n",
       "    <tr>\n",
       "      <th>2</th>\n",
       "      <td>4.493667</td>\n",
       "      <td>3.0</td>\n",
       "      <td>1.352075</td>\n",
       "      <td>0.528895</td>\n",
       "      <td>2.0</td>\n",
       "      <td>111.594</td>\n",
       "      <td>5.58202</td>\n",
       "      <td>3.82398</td>\n",
       "    </tr>\n",
       "    <tr>\n",
       "      <th>3</th>\n",
       "      <td>3.787274</td>\n",
       "      <td>3.0</td>\n",
       "      <td>0.645681</td>\n",
       "      <td>0.568045</td>\n",
       "      <td>2.0</td>\n",
       "      <td>100.05866</td>\n",
       "      <td>11.53534</td>\n",
       "      <td>9.406</td>\n",
       "    </tr>\n",
       "    <tr>\n",
       "      <th>4</th>\n",
       "      <td>3.423602</td>\n",
       "      <td>3.0</td>\n",
       "      <td>0.282009</td>\n",
       "      <td>0.925597</td>\n",
       "      <td>3.0</td>\n",
       "      <td>93.85402</td>\n",
       "      <td>6.20464</td>\n",
       "      <td>20.94134</td>\n",
       "    </tr>\n",
       "    <tr>\n",
       "      <th>5</th>\n",
       "      <td>2.661902</td>\n",
       "      <td>2.0</td>\n",
       "      <td>0.479691</td>\n",
       "      <td>0.071036</td>\n",
       "      <td>0.0</td>\n",
       "      <td>92.55806</td>\n",
       "      <td>1.29596</td>\n",
       "      <td>27.14598</td>\n",
       "    </tr>\n",
       "    <tr>\n",
       "      <th>6</th>\n",
       "      <td>4.058272</td>\n",
       "      <td>3.0</td>\n",
       "      <td>0.91668</td>\n",
       "      <td>0.087129</td>\n",
       "      <td>0.0</td>\n",
       "      <td>91.64136</td>\n",
       "      <td>0.9167</td>\n",
       "      <td>28.44194</td>\n",
       "    </tr>\n",
       "    <tr>\n",
       "      <th>7</th>\n",
       "      <td>2.749442</td>\n",
       "      <td>2.0</td>\n",
       "      <td>0.392151</td>\n",
       "      <td>0.020218</td>\n",
       "      <td>0.0</td>\n",
       "      <td>90.7729</td>\n",
       "      <td>0.86846</td>\n",
       "      <td>29.35864</td>\n",
       "    </tr>\n",
       "    <tr>\n",
       "      <th>8</th>\n",
       "      <td>5.603175</td>\n",
       "      <td>4.0</td>\n",
       "      <td>0.68001</td>\n",
       "      <td>0.83262</td>\n",
       "      <td>2.0</td>\n",
       "      <td>89.3381</td>\n",
       "      <td>1.4348</td>\n",
       "      <td>30.2271</td>\n",
       "    </tr>\n",
       "    <tr>\n",
       "      <th>9</th>\n",
       "      <td>6.054872</td>\n",
       "      <td>4.0</td>\n",
       "      <td>0.228314</td>\n",
       "      <td>0.778157</td>\n",
       "      <td>2.0</td>\n",
       "      <td>87.88776</td>\n",
       "      <td>1.45034</td>\n",
       "      <td>31.6619</td>\n",
       "    </tr>\n",
       "    <tr>\n",
       "      <th>10</th>\n",
       "      <td>2.409234</td>\n",
       "      <td>2.0</td>\n",
       "      <td>0.732359</td>\n",
       "      <td>0.870012</td>\n",
       "      <td>2.0</td>\n",
       "      <td>85.70756</td>\n",
       "      <td>2.1802</td>\n",
       "      <td>33.11224</td>\n",
       "    </tr>\n",
       "  </tbody>\n",
       "</table>\n",
       "</div>"
      ],
      "text/plain": [
       "       Theta Quadrant        Xi       Rho    m Susceptibles Infecteds  \\\n",
       "0        0.0      0.0       0.0       0.0  0.0        120.0       1.0   \n",
       "1   3.448297      3.0  0.306704  0.791725  2.0    117.17602   2.82398   \n",
       "2   4.493667      3.0  1.352075  0.528895  2.0      111.594   5.58202   \n",
       "3   3.787274      3.0  0.645681  0.568045  2.0    100.05866  11.53534   \n",
       "4   3.423602      3.0  0.282009  0.925597  3.0     93.85402   6.20464   \n",
       "5   2.661902      2.0  0.479691  0.071036  0.0     92.55806   1.29596   \n",
       "6   4.058272      3.0   0.91668  0.087129  0.0     91.64136    0.9167   \n",
       "7   2.749442      2.0  0.392151  0.020218  0.0      90.7729   0.86846   \n",
       "8   5.603175      4.0   0.68001   0.83262  2.0      89.3381    1.4348   \n",
       "9   6.054872      4.0  0.228314  0.778157  2.0     87.88776   1.45034   \n",
       "10  2.409234      2.0  0.732359  0.870012  2.0     85.70756    2.1802   \n",
       "\n",
       "       Deads  \n",
       "0        0.0  \n",
       "1        1.0  \n",
       "2    3.82398  \n",
       "3      9.406  \n",
       "4   20.94134  \n",
       "5   27.14598  \n",
       "6   28.44194  \n",
       "7   29.35864  \n",
       "8    30.2271  \n",
       "9    31.6619  \n",
       "10  33.11224  "
      ]
     },
     "execution_count": 3,
     "metadata": {},
     "output_type": "execute_result"
    }
   ],
   "source": [
    "grid.df_MC"
   ]
  },
  {
   "cell_type": "code",
   "execution_count": 7,
   "metadata": {},
   "outputs": [
    {
     "data": {
      "text/plain": [
       "0.0315625"
      ]
     },
     "execution_count": 7,
     "metadata": {},
     "output_type": "execute_result"
    }
   ],
   "source": [
    "cpu_time = 0.0\n",
    "times = 0.0\n",
    "\n",
    "for i in range(100):\n",
    "\n",
    "    start_time = time.process_time()\n",
    "\n",
    "    grid = Grid(N=11, K=10)\n",
    "    grid.__param__()\n",
    "    grid.Expansion(seed_value=i)\n",
    "\n",
    "    end_time = time.process_time()\n",
    "\n",
    "    cpu_time = end_time - start_time\n",
    "    times += cpu_time\n",
    "\n",
    "times/100"
   ]
  }
 ],
 "metadata": {
  "kernelspec": {
   "display_name": "Python 3",
   "language": "python",
   "name": "python3"
  },
  "language_info": {
   "codemirror_mode": {
    "name": "ipython",
    "version": 3
   },
   "file_extension": ".py",
   "mimetype": "text/x-python",
   "name": "python",
   "nbconvert_exporter": "python",
   "pygments_lexer": "ipython3",
   "version": "3.10.4"
  },
  "orig_nbformat": 4,
  "vscode": {
   "interpreter": {
    "hash": "f8852db887e4898adf41e8dfeeeb2275e3a600f3c56ac76bec9205a61cab2c77"
   }
  }
 },
 "nbformat": 4,
 "nbformat_minor": 2
}

{
 "cells": [
  {
   "cell_type": "code",
   "execution_count": 1,
   "metadata": {},
   "outputs": [],
   "source": [
    "from torch_smodel import *"
   ]
  },
  {
   "cell_type": "markdown",
   "metadata": {},
   "source": [
    "# 1. Integrity MonteCarlo outcomes in our class"
   ]
  },
  {
   "cell_type": "code",
   "execution_count": 2,
   "metadata": {},
   "outputs": [
    {
     "data": {
      "text/html": [
       "<div>\n",
       "<style scoped>\n",
       "    .dataframe tbody tr th:only-of-type {\n",
       "        vertical-align: middle;\n",
       "    }\n",
       "\n",
       "    .dataframe tbody tr th {\n",
       "        vertical-align: top;\n",
       "    }\n",
       "\n",
       "    .dataframe thead th {\n",
       "        text-align: right;\n",
       "    }\n",
       "</style>\n",
       "<table border=\"1\" class=\"dataframe\">\n",
       "  <thead>\n",
       "    <tr style=\"text-align: right;\">\n",
       "      <th></th>\n",
       "      <th>Theta</th>\n",
       "      <th>Quadrant</th>\n",
       "      <th>Xi</th>\n",
       "      <th>Rho</th>\n",
       "      <th>m</th>\n",
       "      <th>Susceptibles</th>\n",
       "      <th>Infecteds</th>\n",
       "      <th>Deads</th>\n",
       "    </tr>\n",
       "  </thead>\n",
       "  <tbody>\n",
       "    <tr>\n",
       "      <th>0</th>\n",
       "      <td>0.0</td>\n",
       "      <td>0.0</td>\n",
       "      <td>0.0</td>\n",
       "      <td>0.0</td>\n",
       "      <td>0.0</td>\n",
       "      <td>120.0</td>\n",
       "      <td>1.0</td>\n",
       "      <td>0.0</td>\n",
       "    </tr>\n",
       "    <tr>\n",
       "      <th>1</th>\n",
       "      <td>3.448297</td>\n",
       "      <td>3.0</td>\n",
       "      <td>0.306704</td>\n",
       "      <td>0.791725</td>\n",
       "      <td>2.0</td>\n",
       "      <td>117.179</td>\n",
       "      <td>2.821</td>\n",
       "      <td>1.0</td>\n",
       "    </tr>\n",
       "    <tr>\n",
       "      <th>2</th>\n",
       "      <td>4.493667</td>\n",
       "      <td>3.0</td>\n",
       "      <td>1.352074</td>\n",
       "      <td>0.528895</td>\n",
       "      <td>2.0</td>\n",
       "      <td>111.649</td>\n",
       "      <td>5.53</td>\n",
       "      <td>3.821</td>\n",
       "    </tr>\n",
       "    <tr>\n",
       "      <th>3</th>\n",
       "      <td>3.787274</td>\n",
       "      <td>3.0</td>\n",
       "      <td>0.645681</td>\n",
       "      <td>0.568045</td>\n",
       "      <td>2.0</td>\n",
       "      <td>100.279</td>\n",
       "      <td>11.37</td>\n",
       "      <td>9.351</td>\n",
       "    </tr>\n",
       "    <tr>\n",
       "      <th>4</th>\n",
       "      <td>3.423602</td>\n",
       "      <td>3.0</td>\n",
       "      <td>0.282009</td>\n",
       "      <td>0.925597</td>\n",
       "      <td>3.0</td>\n",
       "      <td>94.044</td>\n",
       "      <td>6.235</td>\n",
       "      <td>20.721</td>\n",
       "    </tr>\n",
       "    <tr>\n",
       "      <th>5</th>\n",
       "      <td>2.661902</td>\n",
       "      <td>2.0</td>\n",
       "      <td>0.479691</td>\n",
       "      <td>0.071036</td>\n",
       "      <td>0.0</td>\n",
       "      <td>92.665</td>\n",
       "      <td>1.379</td>\n",
       "      <td>26.956</td>\n",
       "    </tr>\n",
       "    <tr>\n",
       "      <th>6</th>\n",
       "      <td>4.058272</td>\n",
       "      <td>3.0</td>\n",
       "      <td>0.91668</td>\n",
       "      <td>0.087129</td>\n",
       "      <td>0.0</td>\n",
       "      <td>91.661</td>\n",
       "      <td>1.004</td>\n",
       "      <td>28.335</td>\n",
       "    </tr>\n",
       "    <tr>\n",
       "      <th>7</th>\n",
       "      <td>2.749442</td>\n",
       "      <td>2.0</td>\n",
       "      <td>0.392151</td>\n",
       "      <td>0.020218</td>\n",
       "      <td>0.0</td>\n",
       "      <td>90.737</td>\n",
       "      <td>0.924</td>\n",
       "      <td>29.339</td>\n",
       "    </tr>\n",
       "    <tr>\n",
       "      <th>8</th>\n",
       "      <td>5.603175</td>\n",
       "      <td>4.0</td>\n",
       "      <td>0.68001</td>\n",
       "      <td>0.83262</td>\n",
       "      <td>2.0</td>\n",
       "      <td>89.209</td>\n",
       "      <td>1.528</td>\n",
       "      <td>30.263</td>\n",
       "    </tr>\n",
       "    <tr>\n",
       "      <th>9</th>\n",
       "      <td>6.054872</td>\n",
       "      <td>4.0</td>\n",
       "      <td>0.228314</td>\n",
       "      <td>0.778157</td>\n",
       "      <td>2.0</td>\n",
       "      <td>87.685</td>\n",
       "      <td>1.524</td>\n",
       "      <td>31.791</td>\n",
       "    </tr>\n",
       "    <tr>\n",
       "      <th>10</th>\n",
       "      <td>2.409234</td>\n",
       "      <td>2.0</td>\n",
       "      <td>0.732359</td>\n",
       "      <td>0.870012</td>\n",
       "      <td>2.0</td>\n",
       "      <td>85.354</td>\n",
       "      <td>2.331</td>\n",
       "      <td>33.315</td>\n",
       "    </tr>\n",
       "  </tbody>\n",
       "</table>\n",
       "</div>"
      ],
      "text/plain": [
       "       Theta Quadrant        Xi       Rho    m Susceptibles Infecteds   Deads\n",
       "0        0.0      0.0       0.0       0.0  0.0        120.0       1.0     0.0\n",
       "1   3.448297      3.0  0.306704  0.791725  2.0      117.179     2.821     1.0\n",
       "2   4.493667      3.0  1.352074  0.528895  2.0      111.649      5.53   3.821\n",
       "3   3.787274      3.0  0.645681  0.568045  2.0      100.279     11.37   9.351\n",
       "4   3.423602      3.0  0.282009  0.925597  3.0       94.044     6.235  20.721\n",
       "5   2.661902      2.0  0.479691  0.071036  0.0       92.665     1.379  26.956\n",
       "6   4.058272      3.0   0.91668  0.087129  0.0       91.661     1.004  28.335\n",
       "7   2.749442      2.0  0.392151  0.020218  0.0       90.737     0.924  29.339\n",
       "8   5.603175      4.0   0.68001   0.83262  2.0       89.209     1.528  30.263\n",
       "9   6.054872      4.0  0.228314  0.778157  2.0       87.685     1.524  31.791\n",
       "10  2.409234      2.0  0.732359  0.870012  2.0       85.354     2.331  33.315"
      ]
     },
     "execution_count": 2,
     "metadata": {},
     "output_type": "execute_result"
    }
   ],
   "source": [
    "grid = Grid(N=11, K=10)\n",
    "grid.__param__()\n",
    "grid.MonteCarlo()\n",
    "grid.df_MC"
   ]
  },
  {
   "cell_type": "code",
   "execution_count": 3,
   "metadata": {},
   "outputs": [
    {
     "name": "stdout",
     "output_type": "stream",
     "text": [
      "CPU time: 28.328125 seconds\n"
     ]
    }
   ],
   "source": [
    "import time\n",
    "\n",
    "# Measure the start time\n",
    "start_time = time.process_time()\n",
    "\n",
    "# Execute the block of code to be measured\n",
    "grid = Grid(N=11, K=10)\n",
    "grid.__param__()\n",
    "grid.MonteCarlo()\n",
    "grid.df_MC\n",
    "\n",
    "# Measure the end time\n",
    "end_time = time.process_time()\n",
    "\n",
    "# Calculate the CPU time\n",
    "cpu_time = end_time - start_time\n",
    "\n",
    "print(f'CPU time: {cpu_time:.6f} seconds')\n"
   ]
  },
  {
   "cell_type": "code",
   "execution_count": 4,
   "metadata": {},
   "outputs": [
    {
     "data": {
      "text/plain": [
       "tensor(85.3540, dtype=torch.float64)"
      ]
     },
     "execution_count": 4,
     "metadata": {},
     "output_type": "execute_result"
    }
   ],
   "source": [
    "torch.sum(grid.X0[:,:,-1])"
   ]
  },
  {
   "cell_type": "code",
   "execution_count": 5,
   "metadata": {},
   "outputs": [],
   "source": [
    "data = grid.dataMC.copy()"
   ]
  }
 ],
 "metadata": {
  "kernelspec": {
   "display_name": "Python 3.10.4 64-bit",
   "language": "python",
   "name": "python3"
  },
  "language_info": {
   "codemirror_mode": {
    "name": "ipython",
    "version": 3
   },
   "file_extension": ".py",
   "mimetype": "text/x-python",
   "name": "python",
   "nbconvert_exporter": "python",
   "pygments_lexer": "ipython3",
   "version": "3.10.4 (tags/v3.10.4:9d38120, Mar 23 2022, 23:13:41) [MSC v.1929 64 bit (AMD64)]"
  },
  "orig_nbformat": 4,
  "vscode": {
   "interpreter": {
    "hash": "f8852db887e4898adf41e8dfeeeb2275e3a600f3c56ac76bec9205a61cab2c77"
   }
  }
 },
 "nbformat": 4,
 "nbformat_minor": 2
}

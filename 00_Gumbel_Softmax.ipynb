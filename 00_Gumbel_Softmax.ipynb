{
 "cells": [
  {
   "cell_type": "code",
   "execution_count": 1,
   "metadata": {},
   "outputs": [],
   "source": [
    "import torch\n",
    "import torch.nn.functional as F"
   ]
  },
  {
   "cell_type": "code",
   "execution_count": 2,
   "metadata": {},
   "outputs": [],
   "source": [
    "import pandas as pd\n",
    "import numpy as np\n",
    "import matplotlib.pyplot as plt"
   ]
  },
  {
   "cell_type": "code",
   "execution_count": 3,
   "metadata": {},
   "outputs": [],
   "source": [
    "p1 = torch.Tensor([0.25, 0.75])\n",
    "p2 = torch.Tensor([0.1, 0.9])\n",
    "p3 = torch.Tensor([0.4, 0.6])"
   ]
  },
  {
   "cell_type": "markdown",
   "metadata": {},
   "source": [
    "# 1. Nos centramos en $p_1$"
   ]
  },
  {
   "cell_type": "code",
   "execution_count": 10,
   "metadata": {},
   "outputs": [
    {
     "name": "stdout",
     "output_type": "stream",
     "text": [
      "tensor([232., 768.])\n"
     ]
    },
    {
     "data": {
      "image/png": "[encoded data removed]",
      "text/plain": [
       "<Figure size 432x288 with 1 Axes>"
      ]
     },
     "metadata": {
      "needs_background": "light"
     },
     "output_type": "display_data"
    }
   ],
   "source": [
    "N = 10**3\n",
    "\n",
    "v = F.gumbel_softmax(logits=p1.log(), hard=True)\n",
    "\n",
    "for i in range(1, N):\n",
    "    v += F.gumbel_softmax(logits=p1.log(), hard=True)\n",
    "\n",
    "plt.bar(['Class 0', 'Class 1'], v)\n",
    "print(v)"
   ]
  },
  {
   "cell_type": "code",
   "execution_count": 17,
   "metadata": {},
   "outputs": [
    {
     "name": "stdout",
     "output_type": "stream",
     "text": [
      "tensor([247., 753.])\n"
     ]
    },
    {
     "data": {
      "image/png": "[encoded data removed]",
      "text/plain": [
       "<Figure size 432x288 with 1 Axes>"
      ]
     },
     "metadata": {
      "needs_background": "light"
     },
     "output_type": "display_data"
    }
   ],
   "source": [
    "N = 10**3\n",
    "\n",
    "v = F.gumbel_softmax(logits=p1.log(), tau=2, hard=True)\n",
    "\n",
    "for i in range(1, N):\n",
    "    v += F.gumbel_softmax(logits=p1.log(), tau=2, hard=True)\n",
    "\n",
    "plt.bar(['Class 0', 'Class 1'], v)\n",
    "print(v)"
   ]
  },
  {
   "cell_type": "markdown",
   "metadata": {},
   "source": [
    "No funciona el parámetro $\\tau$. No tiene ningún efecto en nuestros resultados."
   ]
  },
  {
   "cell_type": "markdown",
   "metadata": {},
   "source": [
    "# Nos centramos en $p_2$"
   ]
  },
  {
   "cell_type": "code",
   "execution_count": 18,
   "metadata": {},
   "outputs": [
    {
     "name": "stdout",
     "output_type": "stream",
     "text": [
      "tensor([104., 896.])\n"
     ]
    },
    {
     "data": {
      "image/png": "[encoded data removed]",
      "text/plain": [
       "<Figure size 432x288 with 1 Axes>"
      ]
     },
     "metadata": {
      "needs_background": "light"
     },
     "output_type": "display_data"
    }
   ],
   "source": [
    "N = 10**3\n",
    "\n",
    "v = F.gumbel_softmax(logits=p2.log(), hard=True)\n",
    "\n",
    "for i in range(1, N):\n",
    "    v += F.gumbel_softmax(logits=p2.log(), hard=True)\n",
    "\n",
    "plt.bar(['Class 0', 'Class 1'], v)\n",
    "print(v)"
   ]
  },
  {
   "cell_type": "code",
   "execution_count": 21,
   "metadata": {},
   "outputs": [
    {
     "name": "stdout",
     "output_type": "stream",
     "text": [
      "tensor([499.9456, 500.0544])\n"
     ]
    },
    {
     "data": {
      "image/png": "[encoded data removed]",
      "text/plain": [
       "<Figure size 432x288 with 1 Axes>"
      ]
     },
     "metadata": {
      "needs_background": "light"
     },
     "output_type": "display_data"
    }
   ],
   "source": [
    "N = 10**3\n",
    "\n",
    "v = F.gumbel_softmax(logits=p2.log(), tau=10**4, hard=False)\n",
    "\n",
    "for i in range(1, N):\n",
    "    v += F.gumbel_softmax(logits=p2.log(), tau=10**4, hard=False)\n",
    "\n",
    "plt.bar(['Class 0', 'Class 1'], v)\n",
    "print(v)"
   ]
  },
  {
   "cell_type": "code",
   "execution_count": 23,
   "metadata": {},
   "outputs": [
    {
     "name": "stdout",
     "output_type": "stream",
     "text": [
      "tensor([ 84.3102, 915.6899])\n"
     ]
    },
    {
     "data": {
      "image/png": "[encoded data removed]",
      "text/plain": [
       "<Figure size 432x288 with 1 Axes>"
      ]
     },
     "metadata": {
      "needs_background": "light"
     },
     "output_type": "display_data"
    }
   ],
   "source": [
    "N = 10**3\n",
    "\n",
    "v = F.gumbel_softmax(logits=p2.log(), tau=0.1, hard=False)\n",
    "\n",
    "for i in range(1, N):\n",
    "    v += F.gumbel_softmax(logits=p2.log(), tau=0.1, hard=False)\n",
    "\n",
    "plt.bar(['Class 0', 'Class 1'], v)\n",
    "print(v)"
   ]
  },
  {
   "cell_type": "markdown",
   "metadata": {},
   "source": [
    "Cuando el modo está en $\\texttt{hard}=True$, entonces las probabilidades si que las ajusta de puta madre."
   ]
  },
  {
   "cell_type": "markdown",
   "metadata": {},
   "source": [
    "# 3. Probamos probabilidades multiclase!"
   ]
  },
  {
   "cell_type": "code",
   "execution_count": 30,
   "metadata": {},
   "outputs": [],
   "source": [
    "p = torch.Tensor([0.1, 0.3, 0.6])"
   ]
  },
  {
   "cell_type": "code",
   "execution_count": 27,
   "metadata": {},
   "outputs": [
    {
     "name": "stdout",
     "output_type": "stream",
     "text": [
      "tensor([ 95., 296., 609.])\n"
     ]
    },
    {
     "data": {
      "text/plain": [
       "<BarContainer object of 3 artists>"
      ]
     },
     "execution_count": 27,
     "metadata": {},
     "output_type": "execute_result"
    },
    {
     "data": {
      "image/png": "[encoded data removed]",
      "text/plain": [
       "<Figure size 432x288 with 1 Axes>"
      ]
     },
     "metadata": {
      "needs_background": "light"
     },
     "output_type": "display_data"
    }
   ],
   "source": [
    "v = F.gumbel_softmax(logits=p.log(), hard=True)\n",
    "\n",
    "for i in range (1, N):\n",
    "    v += F.gumbel_softmax(logits=p.log(), hard=True)\n",
    "\n",
    "print(v)\n",
    "\n",
    "plt.bar(np.arange(3), v)"
   ]
  },
  {
   "cell_type": "code",
   "execution_count": 32,
   "metadata": {},
   "outputs": [
    {
     "name": "stdout",
     "output_type": "stream",
     "text": [
      "tensor([0.3328, 0.3342, 0.3330])\n"
     ]
    },
    {
     "data": {
      "text/plain": [
       "<BarContainer object of 3 artists>"
      ]
     },
     "execution_count": 32,
     "metadata": {},
     "output_type": "execute_result"
    },
    {
     "data": {
      "image/png": "[encoded data removed]",
      "text/plain": [
       "<Figure size 432x288 with 1 Axes>"
      ]
     },
     "metadata": {
      "needs_background": "light"
     },
     "output_type": "display_data"
    }
   ],
   "source": [
    "v = F.gumbel_softmax(logits=p.log(), hard=False, tau=1000)\n",
    "\n",
    "print(v)\n",
    "\n",
    "plt.bar(np.arange(3), v)"
   ]
  },
  {
   "cell_type": "code",
   "execution_count": 39,
   "metadata": {},
   "outputs": [
    {
     "name": "stdout",
     "output_type": "stream",
     "text": [
      "tensor([146.5920, 341.0971, 512.3111])\n"
     ]
    },
    {
     "data": {
      "text/plain": [
       "<BarContainer object of 3 artists>"
      ]
     },
     "execution_count": 39,
     "metadata": {},
     "output_type": "execute_result"
    },
    {
     "data": {
      "image/png": "[encoded data removed]",
      "text/plain": [
       "<Figure size 432x288 with 1 Axes>"
      ]
     },
     "metadata": {
      "needs_background": "light"
     },
     "output_type": "display_data"
    }
   ],
   "source": [
    "v = F.gumbel_softmax(logits=p.log(), hard=False)\n",
    "\n",
    "for i in range (1, N):\n",
    "    v += F.gumbel_softmax(logits=p.log(), hard=False)\n",
    "\n",
    "print(v)\n",
    "\n",
    "plt.bar(np.arange(3), v)"
   ]
  },
  {
   "cell_type": "code",
   "execution_count": 44,
   "metadata": {},
   "outputs": [
    {
     "name": "stdout",
     "output_type": "stream",
     "text": [
      "tensor([10.5834, 26.3706, 63.0460])\n"
     ]
    },
    {
     "data": {
      "text/plain": [
       "<BarContainer object of 3 artists>"
      ]
     },
     "execution_count": 44,
     "metadata": {},
     "output_type": "execute_result"
    },
    {
     "data": {
      "image/png": "[encoded data removed]",
      "text/plain": [
       "<Figure size 432x288 with 1 Axes>"
      ]
     },
     "metadata": {
      "needs_background": "light"
     },
     "output_type": "display_data"
    }
   ],
   "source": [
    "v = F.gumbel_softmax(logits=p.log(), hard=False, tau=0.1)\n",
    "\n",
    "for i in range (1, 100):\n",
    "    v += F.gumbel_softmax(logits=p.log(), hard=False, tau=0.1)\n",
    "\n",
    "print(v)\n",
    "\n",
    "plt.bar(np.arange(3), v)"
   ]
  },
  {
   "cell_type": "markdown",
   "metadata": {},
   "source": [
    "# 4. Nos centramos en $\\texttt{hard}=False$"
   ]
  },
  {
   "cell_type": "code",
   "execution_count": 10,
   "metadata": {},
   "outputs": [
    {
     "name": "stdout",
     "output_type": "stream",
     "text": [
      "tensor([0.2636, 0.7364]) tensor([0.1230, 0.8770]) tensor([0.4112, 0.5888])\n"
     ]
    }
   ],
   "source": [
    "n = 10**3\n",
    "tau = 0.5\n",
    "v1 = F.gumbel_softmax(logits=p1.log(), tau=tau)\n",
    "v2 = F.gumbel_softmax(logits=p2.log(), tau=tau)\n",
    "v3 = F.gumbel_softmax(logits=p3.log(), tau=tau)\n",
    "\n",
    "for seed in range(1, n):\n",
    "\n",
    "    v1 += F.gumbel_softmax(logits=p1.log(), tau=tau)\n",
    "    v2 += F.gumbel_softmax(logits=p2.log(), tau=tau)\n",
    "    v3 += F.gumbel_softmax(logits=p3.log(), tau=tau)\n",
    "v1 = v1/n\n",
    "v2 = v2/n\n",
    "v3 = v3/n\n",
    "\n",
    "print(v1, v2, v3)"
   ]
  }
 ],
 "metadata": {
  "kernelspec": {
   "display_name": "Python 3.10.4 64-bit",
   "language": "python",
   "name": "python3"
  },
  "language_info": {
   "codemirror_mode": {
    "name": "ipython",
    "version": 3
   },
   "file_extension": ".py",
   "mimetype": "text/x-python",
   "name": "python",
   "nbconvert_exporter": "python",
   "pygments_lexer": "ipython3",
   "version": "3.10.4"
  },
  "orig_nbformat": 4,
  "vscode": {
   "interpreter": {
    "hash": "f8852db887e4898adf41e8dfeeeb2275e3a600f3c56ac76bec9205a61cab2c77"
   }
  }
 },
 "nbformat": 4,
 "nbformat_minor": 2
}

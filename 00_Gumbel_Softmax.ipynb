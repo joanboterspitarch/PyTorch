{
 "cells": [
  {
   "cell_type": "code",
   "execution_count": 1,
   "metadata": {},
   "outputs": [],
   "source": [
    "import torch\n",
    "import torch.nn.functional as F"
   ]
  },
  {
   "cell_type": "code",
   "execution_count": 2,
   "metadata": {},
   "outputs": [],
   "source": [
    "import pandas as pd\n",
    "import numpy as np\n",
    "import matplotlib.pyplot as plt"
   ]
  },
  {
   "cell_type": "code",
   "execution_count": 3,
   "metadata": {},
   "outputs": [],
   "source": [
    "p1 = torch.Tensor([0.25, 0.75])\n",
    "p2 = torch.Tensor([0.1, 0.9])\n",
    "p3 = torch.Tensor([0.4, 0.6])"
   ]
  },
  {
   "cell_type": "code",
   "execution_count": 35,
   "metadata": {},
   "outputs": [
    {
     "data": {
      "text/plain": [
       "tensor([0., 1.])"
      ]
     },
     "execution_count": 35,
     "metadata": {},
     "output_type": "execute_result"
    }
   ],
   "source": [
    "v1 = F.gumbel_softmax(logits=p1.log(), hard=True)\n",
    "v1"
   ]
  },
  {
   "cell_type": "markdown",
   "metadata": {},
   "source": [
    "# 1. Nos centramos en $p_1$"
   ]
  },
  {
   "cell_type": "code",
   "execution_count": 4,
   "metadata": {},
   "outputs": [
    {
     "name": "stdout",
     "output_type": "stream",
     "text": [
      "tensor([256., 744.])\n"
     ]
    },
    {
     "data": {
      "image/png": "[encoded data removed]",
      "text/plain": [
       "<Figure size 432x288 with 1 Axes>"
      ]
     },
     "metadata": {
      "needs_background": "light"
     },
     "output_type": "display_data"
    }
   ],
   "source": [
    "N = 10**3\n",
    "\n",
    "v = F.gumbel_softmax(logits=p1.log(), hard=True)\n",
    "\n",
    "for i in range(1, N):\n",
    "    v += F.gumbel_softmax(logits=p1.log(), hard=True)\n",
    "\n",
    "plt.bar(['Class 0', 'Class 1'], v)\n",
    "print(v)"
   ]
  },
  {
   "cell_type": "code",
   "execution_count": 5,
   "metadata": {},
   "outputs": [
    {
     "name": "stdout",
     "output_type": "stream",
     "text": [
      "tensor([242., 758.])\n"
     ]
    },
    {
     "data": {
      "image/png": "[encoded data removed]",
      "text/plain": [
       "<Figure size 432x288 with 1 Axes>"
      ]
     },
     "metadata": {
      "needs_background": "light"
     },
     "output_type": "display_data"
    }
   ],
   "source": [
    "N = 10**3\n",
    "\n",
    "v = F.gumbel_softmax(logits=p1.log(), tau=2, hard=True)\n",
    "\n",
    "for i in range(1, N):\n",
    "    v += F.gumbel_softmax(logits=p1.log(), tau=2, hard=True)\n",
    "\n",
    "plt.bar(['Class 0', 'Class 1'], v)\n",
    "print(v)"
   ]
  },
  {
   "cell_type": "markdown",
   "metadata": {},
   "source": [
    "No funciona el parámetro $\\tau$. No tiene ningún efecto en nuestros resultados."
   ]
  },
  {
   "cell_type": "markdown",
   "metadata": {},
   "source": [
    "# Nos centramos en $p_2$"
   ]
  },
  {
   "cell_type": "code",
   "execution_count": 6,
   "metadata": {},
   "outputs": [
    {
     "name": "stdout",
     "output_type": "stream",
     "text": [
      "tensor([102., 898.])\n"
     ]
    },
    {
     "data": {
      "image/png": "[encoded data removed]",
      "text/plain": [
       "<Figure size 432x288 with 1 Axes>"
      ]
     },
     "metadata": {
      "needs_background": "light"
     },
     "output_type": "display_data"
    }
   ],
   "source": [
    "N = 10**3\n",
    "\n",
    "v = F.gumbel_softmax(logits=p2.log(), hard=True)\n",
    "\n",
    "for i in range(1, N):\n",
    "    v += F.gumbel_softmax(logits=p2.log(), hard=True)\n",
    "\n",
    "plt.bar(['Class 0', 'Class 1'], v)\n",
    "print(v)"
   ]
  },
  {
   "cell_type": "code",
   "execution_count": 7,
   "metadata": {},
   "outputs": [
    {
     "name": "stdout",
     "output_type": "stream",
     "text": [
      "tensor([499.9464, 500.0535])\n"
     ]
    },
    {
     "data": {
      "image/png": "[encoded data removed]",
      "text/plain": [
       "<Figure size 432x288 with 1 Axes>"
      ]
     },
     "metadata": {
      "needs_background": "light"
     },
     "output_type": "display_data"
    }
   ],
   "source": [
    "N = 10**3\n",
    "\n",
    "v = F.gumbel_softmax(logits=p2.log(), tau=10**4, hard=False)\n",
    "\n",
    "for i in range(1, N):\n",
    "    v += F.gumbel_softmax(logits=p2.log(), tau=10**4, hard=False)\n",
    "\n",
    "plt.bar(['Class 0', 'Class 1'], v)\n",
    "print(v)"
   ]
  },
  {
   "cell_type": "code",
   "execution_count": 8,
   "metadata": {},
   "outputs": [
    {
     "name": "stdout",
     "output_type": "stream",
     "text": [
      "tensor([ 95., 905.])\n"
     ]
    },
    {
     "data": {
      "image/png": "[encoded data removed]",
      "text/plain": [
       "<Figure size 432x288 with 1 Axes>"
      ]
     },
     "metadata": {
      "needs_background": "light"
     },
     "output_type": "display_data"
    }
   ],
   "source": [
    "N = 10**3\n",
    "\n",
    "v = F.gumbel_softmax(logits=p2.log(), tau=10**4, hard=True)\n",
    "\n",
    "for i in range(1, N):\n",
    "    v += F.gumbel_softmax(logits=p2.log(), tau=10**4, hard=True)\n",
    "\n",
    "plt.bar(['Class 0', 'Class 1'], v)\n",
    "print(v)"
   ]
  },
  {
   "cell_type": "code",
   "execution_count": 9,
   "metadata": {},
   "outputs": [
    {
     "name": "stdout",
     "output_type": "stream",
     "text": [
      "tensor([102.2287, 897.7713])\n"
     ]
    },
    {
     "data": {
      "image/png": "[encoded data removed]",
      "text/plain": [
       "<Figure size 432x288 with 1 Axes>"
      ]
     },
     "metadata": {
      "needs_background": "light"
     },
     "output_type": "display_data"
    }
   ],
   "source": [
    "N = 10**3\n",
    "\n",
    "v = F.gumbel_softmax(logits=p2.log(), tau=0.1, hard=False)\n",
    "\n",
    "for i in range(1, N):\n",
    "    v += F.gumbel_softmax(logits=p2.log(), tau=0.1, hard=False)\n",
    "\n",
    "plt.bar(['Class 0', 'Class 1'], v)\n",
    "print(v)"
   ]
  },
  {
   "cell_type": "markdown",
   "metadata": {},
   "source": [
    "Cuando el modo está en $\\texttt{hard}=True$, entonces las probabilidades si que las ajusta de puta madre."
   ]
  },
  {
   "cell_type": "markdown",
   "metadata": {},
   "source": [
    "# 3. Probamos probabilidades multiclase!"
   ]
  },
  {
   "cell_type": "code",
   "execution_count": 10,
   "metadata": {},
   "outputs": [],
   "source": [
    "p = torch.Tensor([0.1, 0.3, 0.6])"
   ]
  },
  {
   "cell_type": "code",
   "execution_count": 11,
   "metadata": {},
   "outputs": [
    {
     "name": "stdout",
     "output_type": "stream",
     "text": [
      "tensor([107., 318., 575.])\n"
     ]
    },
    {
     "data": {
      "text/plain": [
       "<BarContainer object of 3 artists>"
      ]
     },
     "execution_count": 11,
     "metadata": {},
     "output_type": "execute_result"
    },
    {
     "data": {
      "image/png": "[encoded data removed]",
      "text/plain": [
       "<Figure size 432x288 with 1 Axes>"
      ]
     },
     "metadata": {
      "needs_background": "light"
     },
     "output_type": "display_data"
    }
   ],
   "source": [
    "v = F.gumbel_softmax(logits=p.log(), hard=True)\n",
    "\n",
    "for i in range (1, N):\n",
    "    v += F.gumbel_softmax(logits=p.log(), hard=True)\n",
    "\n",
    "print(v)\n",
    "\n",
    "plt.bar(np.arange(3), v)"
   ]
  },
  {
   "cell_type": "code",
   "execution_count": 12,
   "metadata": {},
   "outputs": [
    {
     "name": "stdout",
     "output_type": "stream",
     "text": [
      "tensor([0.3329, 0.3332, 0.3339])\n"
     ]
    },
    {
     "data": {
      "text/plain": [
       "<BarContainer object of 3 artists>"
      ]
     },
     "execution_count": 12,
     "metadata": {},
     "output_type": "execute_result"
    },
    {
     "data": {
      "image/png": "[encoded data removed]",
      "text/plain": [
       "<Figure size 432x288 with 1 Axes>"
      ]
     },
     "metadata": {
      "needs_background": "light"
     },
     "output_type": "display_data"
    }
   ],
   "source": [
    "v = F.gumbel_softmax(logits=p.log(), hard=False, tau=1000)\n",
    "\n",
    "print(v)\n",
    "\n",
    "plt.bar(np.arange(3), v)"
   ]
  },
  {
   "cell_type": "code",
   "execution_count": 13,
   "metadata": {},
   "outputs": [
    {
     "name": "stdout",
     "output_type": "stream",
     "text": [
      "tensor([151.6438, 323.2898, 525.0663])\n"
     ]
    },
    {
     "data": {
      "text/plain": [
       "<BarContainer object of 3 artists>"
      ]
     },
     "execution_count": 13,
     "metadata": {},
     "output_type": "execute_result"
    },
    {
     "data": {
      "image/png": "[encoded data removed]",
      "text/plain": [
       "<Figure size 432x288 with 1 Axes>"
      ]
     },
     "metadata": {
      "needs_background": "light"
     },
     "output_type": "display_data"
    }
   ],
   "source": [
    "v = F.gumbel_softmax(logits=p.log(), hard=False)\n",
    "\n",
    "for i in range (1, N):\n",
    "    v += F.gumbel_softmax(logits=p.log(), hard=False)\n",
    "\n",
    "print(v)\n",
    "\n",
    "plt.bar(np.arange(3), v)"
   ]
  },
  {
   "cell_type": "code",
   "execution_count": 14,
   "metadata": {},
   "outputs": [
    {
     "name": "stdout",
     "output_type": "stream",
     "text": [
      "tensor([11.0649, 28.8714, 60.0637])\n"
     ]
    },
    {
     "data": {
      "text/plain": [
       "<BarContainer object of 3 artists>"
      ]
     },
     "execution_count": 14,
     "metadata": {},
     "output_type": "execute_result"
    },
    {
     "data": {
      "image/png": "[encoded data removed]",
      "text/plain": [
       "<Figure size 432x288 with 1 Axes>"
      ]
     },
     "metadata": {
      "needs_background": "light"
     },
     "output_type": "display_data"
    }
   ],
   "source": [
    "v = F.gumbel_softmax(logits=p.log(), hard=False, tau=0.1)\n",
    "\n",
    "for i in range (1, 100):\n",
    "    v += F.gumbel_softmax(logits=p.log(), hard=False, tau=0.1)\n",
    "\n",
    "print(v)\n",
    "\n",
    "plt.bar(np.arange(3), v)"
   ]
  },
  {
   "cell_type": "markdown",
   "metadata": {},
   "source": [
    "# 4. Nos centramos en $\\texttt{hard}=False$"
   ]
  },
  {
   "cell_type": "code",
   "execution_count": 15,
   "metadata": {},
   "outputs": [
    {
     "name": "stdout",
     "output_type": "stream",
     "text": [
      "tensor([0.2718, 0.7282]) tensor([0.1319, 0.8681]) tensor([0.4146, 0.5854])\n"
     ]
    }
   ],
   "source": [
    "n = 10**3\n",
    "tau = 0.5\n",
    "v1 = F.gumbel_softmax(logits=p1.log(), tau=tau)\n",
    "v2 = F.gumbel_softmax(logits=p2.log(), tau=tau)\n",
    "v3 = F.gumbel_softmax(logits=p3.log(), tau=tau)\n",
    "\n",
    "for seed in range(1, n):\n",
    "\n",
    "    v1 += F.gumbel_softmax(logits=p1.log(), tau=tau)\n",
    "    v2 += F.gumbel_softmax(logits=p2.log(), tau=tau)\n",
    "    v3 += F.gumbel_softmax(logits=p3.log(), tau=tau)\n",
    "v1 = v1/n\n",
    "v2 = v2/n\n",
    "v3 = v3/n\n",
    "\n",
    "print(v1, v2, v3)"
   ]
  },
  {
   "cell_type": "markdown",
   "metadata": {},
   "source": [
    "# 5. Compute Gradients"
   ]
  },
  {
   "cell_type": "code",
   "execution_count": 16,
   "metadata": {},
   "outputs": [],
   "source": [
    "p1 = torch.tensor([0.25, 0.75], requires_grad = True)\n",
    "p2 = torch.tensor([0.1, 0.9], requires_grad = True)\n",
    "p3 = torch.tensor([0.4, 0.6], requires_grad = True)"
   ]
  },
  {
   "cell_type": "code",
   "execution_count": 17,
   "metadata": {},
   "outputs": [],
   "source": [
    "tau = 100\n",
    "v1 = F.gumbel_softmax(logits=p1.log(), tau=tau, hard=True)\n",
    "v2 = F.gumbel_softmax(logits=p2.log(), tau=tau, hard=False)\n",
    "v3 = F.gumbel_softmax(logits=p3.log(), tau=tau, hard=False)"
   ]
  },
  {
   "cell_type": "code",
   "execution_count": 18,
   "metadata": {},
   "outputs": [
    {
     "data": {
      "text/plain": [
       "(tensor([0., 1.], grad_fn=<AddBackward0>),\n",
       " tensor([0.5043, 0.4957], grad_fn=<SoftmaxBackward0>),\n",
       " tensor([0.4980, 0.5020], grad_fn=<SoftmaxBackward0>))"
      ]
     },
     "execution_count": 18,
     "metadata": {},
     "output_type": "execute_result"
    }
   ],
   "source": [
    "v1, v2, v3"
   ]
  },
  {
   "cell_type": "code",
   "execution_count": 19,
   "metadata": {},
   "outputs": [],
   "source": [
    "external_grad = torch.tensor([1., 1.])"
   ]
  },
  {
   "cell_type": "code",
   "execution_count": 20,
   "metadata": {},
   "outputs": [
    {
     "data": {
      "text/plain": [
       "(None, None, None)"
      ]
     },
     "execution_count": 20,
     "metadata": {},
     "output_type": "execute_result"
    }
   ],
   "source": [
    "# v1.backward(gradient=external_grad), v2.backward(gradient=external_grad), v3.backward(gradient=external_grad)\n",
    "v1.sum().backward(), v2.sum().backward(), v3.sum().backward()"
   ]
  },
  {
   "cell_type": "code",
   "execution_count": 21,
   "metadata": {},
   "outputs": [
    {
     "data": {
      "text/plain": [
       "(tensor([2.3370e-09, 8.1047e-10]), tensor([0., 0.]), tensor([0., 0.]))"
      ]
     },
     "execution_count": 21,
     "metadata": {},
     "output_type": "execute_result"
    }
   ],
   "source": [
    "p1.grad, p2.grad, p3.grad"
   ]
  },
  {
   "cell_type": "markdown",
   "metadata": {},
   "source": [
    "# TOY EXAMPLE"
   ]
  },
  {
   "cell_type": "code",
   "execution_count": 22,
   "metadata": {},
   "outputs": [],
   "source": [
    "a = torch.tensor([1., 2., 3.], requires_grad=True)\n",
    "b = torch.tensor([4., 5., 6.], requires_grad=True)"
   ]
  },
  {
   "cell_type": "code",
   "execution_count": 23,
   "metadata": {},
   "outputs": [],
   "source": [
    "c = a**2 - b"
   ]
  },
  {
   "cell_type": "code",
   "execution_count": 24,
   "metadata": {},
   "outputs": [],
   "source": [
    "c.sum().backward()"
   ]
  },
  {
   "cell_type": "code",
   "execution_count": 25,
   "metadata": {},
   "outputs": [
    {
     "data": {
      "text/plain": [
       "(tensor([2., 4., 6.]), tensor([-1., -1., -1.]))"
      ]
     },
     "execution_count": 25,
     "metadata": {},
     "output_type": "execute_result"
    }
   ],
   "source": [
    "a.grad, b.grad"
   ]
  },
  {
   "cell_type": "code",
   "execution_count": 26,
   "metadata": {},
   "outputs": [
    {
     "data": {
      "text/plain": [
       "tensor([[-1.2281,  1.1931, -0.4103],\n",
       "        [ 1.3766,  0.6604,  0.7927],\n",
       "        [ 1.6185, -0.5224, -0.7101]])"
      ]
     },
     "execution_count": 26,
     "metadata": {},
     "output_type": "execute_result"
    }
   ],
   "source": [
    "torch.randn(3,3)"
   ]
  }
 ],
 "metadata": {
  "kernelspec": {
   "display_name": "Python 3.10.4 64-bit",
   "language": "python",
   "name": "python3"
  },
  "language_info": {
   "codemirror_mode": {
    "name": "ipython",
    "version": 3
   },
   "file_extension": ".py",
   "mimetype": "text/x-python",
   "name": "python",
   "nbconvert_exporter": "python",
   "pygments_lexer": "ipython3",
   "version": "3.10.4"
  },
  "orig_nbformat": 4,
  "vscode": {
   "interpreter": {
    "hash": "f8852db887e4898adf41e8dfeeeb2275e3a600f3c56ac76bec9205a61cab2c77"
   }
  }
 },
 "nbformat": 4,
 "nbformat_minor": 2
}

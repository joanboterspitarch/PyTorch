{
 "cells": [
  {
   "cell_type": "code",
   "execution_count": 1,
   "metadata": {},
   "outputs": [],
   "source": [
    "import numpy as np\n",
    "import pandas as pd\n",
    "import matplotlib.pyplot as plt\n",
    "import seaborn as sns\n",
    "import warnings\n",
    "import torch.nn.functional as F\n",
    "import torch\n",
    "import torch.nn as nn\n",
    "import torch.optim as optim\n",
    "from torch_smodel import *"
   ]
  },
  {
   "attachments": {},
   "cell_type": "markdown",
   "metadata": {},
   "source": [
    "# 1. Cargamos los datos de input y el target"
   ]
  },
  {
   "cell_type": "code",
   "execution_count": 2,
   "metadata": {},
   "outputs": [],
   "source": [
    "df_input = pd.read_csv('df_input.csv', index_col=0)\n",
    "grid_incendio = np.load('grid_incendio.npy')"
   ]
  },
  {
   "cell_type": "code",
   "execution_count": 3,
   "metadata": {},
   "outputs": [
    {
     "data": {
      "text/html": [
       "<div>\n",
       "<style scoped>\n",
       "    .dataframe tbody tr th:only-of-type {\n",
       "        vertical-align: middle;\n",
       "    }\n",
       "\n",
       "    .dataframe tbody tr th {\n",
       "        vertical-align: top;\n",
       "    }\n",
       "\n",
       "    .dataframe thead th {\n",
       "        text-align: right;\n",
       "    }\n",
       "</style>\n",
       "<table border=\"1\" class=\"dataframe\">\n",
       "  <thead>\n",
       "    <tr style=\"text-align: right;\">\n",
       "      <th></th>\n",
       "      <th>Theta</th>\n",
       "      <th>Rho</th>\n",
       "      <th>Temperature</th>\n",
       "      <th>Humidity</th>\n",
       "    </tr>\n",
       "  </thead>\n",
       "  <tbody>\n",
       "    <tr>\n",
       "      <th>14:00:00</th>\n",
       "      <td>5.829400</td>\n",
       "      <td>0.425</td>\n",
       "      <td>35.0</td>\n",
       "      <td>28</td>\n",
       "    </tr>\n",
       "    <tr>\n",
       "      <th>14:30:00</th>\n",
       "      <td>5.497787</td>\n",
       "      <td>0.500</td>\n",
       "      <td>35.0</td>\n",
       "      <td>28</td>\n",
       "    </tr>\n",
       "    <tr>\n",
       "      <th>15:00:00</th>\n",
       "      <td>5.497787</td>\n",
       "      <td>0.625</td>\n",
       "      <td>35.5</td>\n",
       "      <td>28</td>\n",
       "    </tr>\n",
       "    <tr>\n",
       "      <th>15:30:00</th>\n",
       "      <td>5.619960</td>\n",
       "      <td>0.550</td>\n",
       "      <td>35.0</td>\n",
       "      <td>26</td>\n",
       "    </tr>\n",
       "    <tr>\n",
       "      <th>16:00:00</th>\n",
       "      <td>5.497787</td>\n",
       "      <td>0.500</td>\n",
       "      <td>35.0</td>\n",
       "      <td>25</td>\n",
       "    </tr>\n",
       "    <tr>\n",
       "      <th>16:30:00</th>\n",
       "      <td>5.654867</td>\n",
       "      <td>0.500</td>\n",
       "      <td>35.5</td>\n",
       "      <td>25</td>\n",
       "    </tr>\n",
       "    <tr>\n",
       "      <th>17:00:00</th>\n",
       "      <td>5.497787</td>\n",
       "      <td>0.500</td>\n",
       "      <td>36.0</td>\n",
       "      <td>24</td>\n",
       "    </tr>\n",
       "    <tr>\n",
       "      <th>17:30:00</th>\n",
       "      <td>5.497787</td>\n",
       "      <td>0.425</td>\n",
       "      <td>36.7</td>\n",
       "      <td>24</td>\n",
       "    </tr>\n",
       "    <tr>\n",
       "      <th>18:00:00</th>\n",
       "      <td>5.829400</td>\n",
       "      <td>0.375</td>\n",
       "      <td>36.0</td>\n",
       "      <td>25</td>\n",
       "    </tr>\n",
       "    <tr>\n",
       "      <th>18:30:00</th>\n",
       "      <td>2.129302</td>\n",
       "      <td>0.250</td>\n",
       "      <td>35.0</td>\n",
       "      <td>35</td>\n",
       "    </tr>\n",
       "    <tr>\n",
       "      <th>19:00:00</th>\n",
       "      <td>2.652900</td>\n",
       "      <td>0.675</td>\n",
       "      <td>32.0</td>\n",
       "      <td>45</td>\n",
       "    </tr>\n",
       "    <tr>\n",
       "      <th>19:30:00</th>\n",
       "      <td>2.513274</td>\n",
       "      <td>0.800</td>\n",
       "      <td>30.0</td>\n",
       "      <td>48</td>\n",
       "    </tr>\n",
       "    <tr>\n",
       "      <th>20:00:00</th>\n",
       "      <td>2.443461</td>\n",
       "      <td>0.650</td>\n",
       "      <td>28.0</td>\n",
       "      <td>48</td>\n",
       "    </tr>\n",
       "    <tr>\n",
       "      <th>20:30:00</th>\n",
       "      <td>2.513274</td>\n",
       "      <td>0.675</td>\n",
       "      <td>27.5</td>\n",
       "      <td>48</td>\n",
       "    </tr>\n",
       "    <tr>\n",
       "      <th>21:00:00</th>\n",
       "      <td>2.792527</td>\n",
       "      <td>0.425</td>\n",
       "      <td>27.0</td>\n",
       "      <td>49</td>\n",
       "    </tr>\n",
       "    <tr>\n",
       "      <th>21:30:00</th>\n",
       "      <td>2.827433</td>\n",
       "      <td>0.325</td>\n",
       "      <td>26.5</td>\n",
       "      <td>49</td>\n",
       "    </tr>\n",
       "    <tr>\n",
       "      <th>22:00:00</th>\n",
       "      <td>2.827433</td>\n",
       "      <td>0.125</td>\n",
       "      <td>26.0</td>\n",
       "      <td>50</td>\n",
       "    </tr>\n",
       "  </tbody>\n",
       "</table>\n",
       "</div>"
      ],
      "text/plain": [
       "             Theta    Rho  Temperature  Humidity\n",
       "14:00:00  5.829400  0.425         35.0        28\n",
       "14:30:00  5.497787  0.500         35.0        28\n",
       "15:00:00  5.497787  0.625         35.5        28\n",
       "15:30:00  5.619960  0.550         35.0        26\n",
       "16:00:00  5.497787  0.500         35.0        25\n",
       "16:30:00  5.654867  0.500         35.5        25\n",
       "17:00:00  5.497787  0.500         36.0        24\n",
       "17:30:00  5.497787  0.425         36.7        24\n",
       "18:00:00  5.829400  0.375         36.0        25\n",
       "18:30:00  2.129302  0.250         35.0        35\n",
       "19:00:00  2.652900  0.675         32.0        45\n",
       "19:30:00  2.513274  0.800         30.0        48\n",
       "20:00:00  2.443461  0.650         28.0        48\n",
       "20:30:00  2.513274  0.675         27.5        48\n",
       "21:00:00  2.792527  0.425         27.0        49\n",
       "21:30:00  2.827433  0.325         26.5        49\n",
       "22:00:00  2.827433  0.125         26.0        50"
      ]
     },
     "execution_count": 3,
     "metadata": {},
     "output_type": "execute_result"
    }
   ],
   "source": [
    "df_input"
   ]
  },
  {
   "cell_type": "code",
   "execution_count": 4,
   "metadata": {},
   "outputs": [],
   "source": [
    "last_layer = torch.Tensor(grid_incendio[:, :, -1]) \n",
    "target_s = (last_layer==0)*1.\n",
    "target_d = (last_layer==2)*1.\n",
    "target_i = (grid_incendio==1)*1."
   ]
  },
  {
   "cell_type": "code",
   "execution_count": 5,
   "metadata": {},
   "outputs": [],
   "source": [
    "target_i = torch.Tensor(target_i)"
   ]
  },
  {
   "attachments": {},
   "cell_type": "markdown",
   "metadata": {},
   "source": [
    "# 2. Creamos nuestro GRID AI"
   ]
  },
  {
   "cell_type": "code",
   "execution_count": 6,
   "metadata": {},
   "outputs": [
    {
     "name": "stdout",
     "output_type": "stream",
     "text": [
      "Number epoch:  0\n",
      "FLAGGGGGGG!!!\n",
      "FLAGGGGGGG!!!\n",
      "Epoch 0/10 Loss 0.31467 Tau 1.0 Learn Rate 0.5\n",
      "Number epoch:  1\n",
      "FLAGGGGGGG!!!\n",
      "FLAGGGGGGG!!!\n",
      "Number epoch:  2\n",
      "FLAGGGGGGG!!!\n",
      "FLAGGGGGGG!!!\n",
      "Epoch 2/10 Loss 0.12252 Tau 0.94 Learn Rate 0.42\n",
      "Number epoch:  3\n",
      "FLAGGGGGGG!!!\n",
      "FLAGGGGGGG!!!\n",
      "Number epoch:  4\n",
      "FLAGGGGGGG!!!\n",
      "FLAGGGGGGG!!!\n",
      "Epoch 4/10 Loss 0.08408 Tau 0.88 Learn Rate 0.33999999999999997\n",
      "Number epoch:  5\n",
      "FLAGGGGGGG!!!\n",
      "FLAGGGGGGG!!!\n",
      "Number epoch:  6\n",
      "FLAGGGGGGG!!!\n",
      "FLAGGGGGGG!!!\n",
      "Epoch 6/10 Loss 0.06761 Tau 0.8200000000000001 Learn Rate 0.25999999999999995\n",
      "Number epoch:  7\n",
      "FLAGGGGGGG!!!\n",
      "FLAGGGGGGG!!!\n",
      "Number epoch:  8\n",
      "FLAGGGGGGG!!!\n",
      "FLAGGGGGGG!!!\n",
      "Epoch 8/10 Loss 0.05846 Tau 0.76 Learn Rate 0.18\n",
      "Number epoch:  9\n",
      "FLAGGGGGGG!!!\n",
      "FLAGGGGGGG!!!\n"
     ]
    }
   ],
   "source": [
    "grid = AI_Grid(N=31, K=17)\n",
    "grid.__param__(inc=1, partition=[0.1, 0.5, 0.9])\n",
    "grid.load_data(data=df_input)\n",
    "grid.AI_MonteCarlo(input_size=2, target_s=target_i, n_it=100, epochs=10)"
   ]
  },
  {
   "cell_type": "code",
   "execution_count": 13,
   "metadata": {},
   "outputs": [
    {
     "data": {
      "text/plain": [
       "(tensor([ 8721.7041,  8721.7041,  8798.3320,  8482.7031,  8363.2021,  8439.8301,\n",
       "          8396.9570,  8504.2373,  8516.4570,  9558.2471, 10293.6123, 10345.6504,\n",
       "         10039.1553,  9962.5312, 10005.4199,  9928.7959,  9971.6826],\n",
       "        dtype=torch.float64, grad_fn=<ToCopyBackward0>),\n",
       " tensor([1, 1, 2, 2, 1, 1, 1, 1, 1, 1, 2, 2, 2, 2, 1, 1, 1], dtype=torch.int8))"
      ]
     },
     "execution_count": 13,
     "metadata": {},
     "output_type": "execute_result"
    }
   ],
   "source": [
    "grid.div, grid.m"
   ]
  },
  {
   "cell_type": "code",
   "execution_count": 14,
   "metadata": {},
   "outputs": [
    {
     "data": {
      "text/plain": [
       "<AxesSubplot:>"
      ]
     },
     "execution_count": 14,
     "metadata": {},
     "output_type": "execute_result"
    },
    {
     "data": {
      "image/png": "[encoded data removed]",
      "text/plain": [
       "<Figure size 432x288 with 2 Axes>"
      ]
     },
     "metadata": {
      "needs_background": "light"
     },
     "output_type": "display_data"
    }
   ],
   "source": [
    "sns.heatmap(grid.X0[:, :, -1])"
   ]
  },
  {
   "cell_type": "code",
   "execution_count": 9,
   "metadata": {},
   "outputs": [
    {
     "data": {
      "text/plain": [
       "tensor(330)"
      ]
     },
     "execution_count": 9,
     "metadata": {},
     "output_type": "execute_result"
    }
   ],
   "source": [
    "torch.sum(grid.P!=0)"
   ]
  },
  {
   "cell_type": "code",
   "execution_count": 10,
   "metadata": {},
   "outputs": [
    {
     "data": {
      "text/plain": [
       "<torch.autograd.anomaly_mode.set_detect_anomaly at 0x1eec1969960>"
      ]
     },
     "execution_count": 10,
     "metadata": {},
     "output_type": "execute_result"
    }
   ],
   "source": [
    "torch.autograd.set_detect_anomaly(True)"
   ]
  },
  {
   "cell_type": "code",
   "execution_count": 11,
   "metadata": {},
   "outputs": [
    {
     "data": {
      "text/plain": [
       "(tensor([1., 1., 1., 1., 1., 1., 1., 1., 1., 1., 1., 1., 1., 1., 1., 1., 1.],\n",
       "        dtype=torch.float64, grad_fn=<ToCopyBackward0>),\n",
       " <ToCopyBackward0 at 0x1ee9d5869b0>)"
      ]
     },
     "execution_count": 11,
     "metadata": {},
     "output_type": "execute_result"
    }
   ],
   "source": [
    "grid.p0, grid.div.grad_fn"
   ]
  },
  {
   "cell_type": "code",
   "execution_count": 12,
   "metadata": {},
   "outputs": [
    {
     "data": {
      "text/plain": [
       "tensor([[[True, True, True,  ..., True, True, True],\n",
       "         [True, True, True,  ..., True, True, True],\n",
       "         [True, True, True,  ..., True, True, True],\n",
       "         ...,\n",
       "         [True, True, True,  ..., True, True, True],\n",
       "         [True, True, True,  ..., True, True, True],\n",
       "         [True, True, True,  ..., True, True, True]],\n",
       "\n",
       "        [[True, True, True,  ..., True, True, True],\n",
       "         [True, True, True,  ..., True, True, True],\n",
       "         [True, True, True,  ..., True, True, True],\n",
       "         ...,\n",
       "         [True, True, True,  ..., True, True, True],\n",
       "         [True, True, True,  ..., True, True, True],\n",
       "         [True, True, True,  ..., True, True, True]],\n",
       "\n",
       "        [[True, True, True,  ..., True, True, True],\n",
       "         [True, True, True,  ..., True, True, True],\n",
       "         [True, True, True,  ..., True, True, True],\n",
       "         ...,\n",
       "         [True, True, True,  ..., True, True, True],\n",
       "         [True, True, True,  ..., True, True, True],\n",
       "         [True, True, True,  ..., True, True, True]],\n",
       "\n",
       "        ...,\n",
       "\n",
       "        [[True, True, True,  ..., True, True, True],\n",
       "         [True, True, True,  ..., True, True, True],\n",
       "         [True, True, True,  ..., True, True, True],\n",
       "         ...,\n",
       "         [True, True, True,  ..., True, True, True],\n",
       "         [True, True, True,  ..., True, True, True],\n",
       "         [True, True, True,  ..., True, True, True]],\n",
       "\n",
       "        [[True, True, True,  ..., True, True, True],\n",
       "         [True, True, True,  ..., True, True, True],\n",
       "         [True, True, True,  ..., True, True, True],\n",
       "         ...,\n",
       "         [True, True, True,  ..., True, True, True],\n",
       "         [True, True, True,  ..., True, True, True],\n",
       "         [True, True, True,  ..., True, True, True]],\n",
       "\n",
       "        [[True, True, True,  ..., True, True, True],\n",
       "         [True, True, True,  ..., True, True, True],\n",
       "         [True, True, True,  ..., True, True, True],\n",
       "         ...,\n",
       "         [True, True, True,  ..., True, True, True],\n",
       "         [True, True, True,  ..., True, True, True],\n",
       "         [True, True, True,  ..., True, True, True]]])"
      ]
     },
     "execution_count": 12,
     "metadata": {},
     "output_type": "execute_result"
    }
   ],
   "source": [
    "grid.S.flatten().reshape(31,31,18) == grid.S"
   ]
  }
 ],
 "metadata": {
  "kernelspec": {
   "display_name": "Python 3",
   "language": "python",
   "name": "python3"
  },
  "language_info": {
   "codemirror_mode": {
    "name": "ipython",
    "version": 3
   },
   "file_extension": ".py",
   "mimetype": "text/x-python",
   "name": "python",
   "nbconvert_exporter": "python",
   "pygments_lexer": "ipython3",
   "version": "3.10.4 (tags/v3.10.4:9d38120, Mar 23 2022, 23:13:41) [MSC v.1929 64 bit (AMD64)]"
  },
  "orig_nbformat": 4,
  "vscode": {
   "interpreter": {
    "hash": "f8852db887e4898adf41e8dfeeeb2275e3a600f3c56ac76bec9205a61cab2c77"
   }
  }
 },
 "nbformat": 4,
 "nbformat_minor": 2
}

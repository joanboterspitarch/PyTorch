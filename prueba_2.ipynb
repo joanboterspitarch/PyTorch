{
 "cells": [
  {
   "cell_type": "code",
   "execution_count": 1,
   "metadata": {},
   "outputs": [],
   "source": [
    "import numpy as np\n",
    "import pandas as pd\n",
    "import matplotlib.pyplot as plt\n",
    "import seaborn as sns\n",
    "import warnings\n",
    "import torch.nn.functional as F\n",
    "import torch\n",
    "import torch.nn as nn\n",
    "import torch.optim as optim\n",
    "from torch_smodel import *"
   ]
  },
  {
   "attachments": {},
   "cell_type": "markdown",
   "metadata": {},
   "source": [
    "# 1. Cargamos los datos de input y el target"
   ]
  },
  {
   "cell_type": "code",
   "execution_count": 2,
   "metadata": {},
   "outputs": [],
   "source": [
    "df_input = pd.read_csv('df_input.csv', index_col=0)\n",
    "grid_incendio = np.load('grid_incendio.npy')"
   ]
  },
  {
   "cell_type": "code",
   "execution_count": 3,
   "metadata": {},
   "outputs": [
    {
     "data": {
      "text/html": [
       "<div>\n",
       "<style scoped>\n",
       "    .dataframe tbody tr th:only-of-type {\n",
       "        vertical-align: middle;\n",
       "    }\n",
       "\n",
       "    .dataframe tbody tr th {\n",
       "        vertical-align: top;\n",
       "    }\n",
       "\n",
       "    .dataframe thead th {\n",
       "        text-align: right;\n",
       "    }\n",
       "</style>\n",
       "<table border=\"1\" class=\"dataframe\">\n",
       "  <thead>\n",
       "    <tr style=\"text-align: right;\">\n",
       "      <th></th>\n",
       "      <th>Theta</th>\n",
       "      <th>Rho</th>\n",
       "      <th>Temperature</th>\n",
       "      <th>Humidity</th>\n",
       "    </tr>\n",
       "  </thead>\n",
       "  <tbody>\n",
       "    <tr>\n",
       "      <th>14:00:00</th>\n",
       "      <td>5.829400</td>\n",
       "      <td>0.425</td>\n",
       "      <td>35.0</td>\n",
       "      <td>28</td>\n",
       "    </tr>\n",
       "    <tr>\n",
       "      <th>14:30:00</th>\n",
       "      <td>5.497787</td>\n",
       "      <td>0.500</td>\n",
       "      <td>35.0</td>\n",
       "      <td>28</td>\n",
       "    </tr>\n",
       "    <tr>\n",
       "      <th>15:00:00</th>\n",
       "      <td>5.497787</td>\n",
       "      <td>0.625</td>\n",
       "      <td>35.5</td>\n",
       "      <td>28</td>\n",
       "    </tr>\n",
       "    <tr>\n",
       "      <th>15:30:00</th>\n",
       "      <td>5.619960</td>\n",
       "      <td>0.550</td>\n",
       "      <td>35.0</td>\n",
       "      <td>26</td>\n",
       "    </tr>\n",
       "    <tr>\n",
       "      <th>16:00:00</th>\n",
       "      <td>5.497787</td>\n",
       "      <td>0.500</td>\n",
       "      <td>35.0</td>\n",
       "      <td>25</td>\n",
       "    </tr>\n",
       "    <tr>\n",
       "      <th>16:30:00</th>\n",
       "      <td>5.654867</td>\n",
       "      <td>0.500</td>\n",
       "      <td>35.5</td>\n",
       "      <td>25</td>\n",
       "    </tr>\n",
       "    <tr>\n",
       "      <th>17:00:00</th>\n",
       "      <td>5.497787</td>\n",
       "      <td>0.500</td>\n",
       "      <td>36.0</td>\n",
       "      <td>24</td>\n",
       "    </tr>\n",
       "    <tr>\n",
       "      <th>17:30:00</th>\n",
       "      <td>5.497787</td>\n",
       "      <td>0.425</td>\n",
       "      <td>36.7</td>\n",
       "      <td>24</td>\n",
       "    </tr>\n",
       "    <tr>\n",
       "      <th>18:00:00</th>\n",
       "      <td>5.829400</td>\n",
       "      <td>0.375</td>\n",
       "      <td>36.0</td>\n",
       "      <td>25</td>\n",
       "    </tr>\n",
       "    <tr>\n",
       "      <th>18:30:00</th>\n",
       "      <td>2.129302</td>\n",
       "      <td>0.250</td>\n",
       "      <td>35.0</td>\n",
       "      <td>35</td>\n",
       "    </tr>\n",
       "    <tr>\n",
       "      <th>19:00:00</th>\n",
       "      <td>2.652900</td>\n",
       "      <td>0.675</td>\n",
       "      <td>32.0</td>\n",
       "      <td>45</td>\n",
       "    </tr>\n",
       "    <tr>\n",
       "      <th>19:30:00</th>\n",
       "      <td>2.513274</td>\n",
       "      <td>0.800</td>\n",
       "      <td>30.0</td>\n",
       "      <td>48</td>\n",
       "    </tr>\n",
       "    <tr>\n",
       "      <th>20:00:00</th>\n",
       "      <td>2.443461</td>\n",
       "      <td>0.650</td>\n",
       "      <td>28.0</td>\n",
       "      <td>48</td>\n",
       "    </tr>\n",
       "    <tr>\n",
       "      <th>20:30:00</th>\n",
       "      <td>2.513274</td>\n",
       "      <td>0.675</td>\n",
       "      <td>27.5</td>\n",
       "      <td>48</td>\n",
       "    </tr>\n",
       "    <tr>\n",
       "      <th>21:00:00</th>\n",
       "      <td>2.792527</td>\n",
       "      <td>0.425</td>\n",
       "      <td>27.0</td>\n",
       "      <td>49</td>\n",
       "    </tr>\n",
       "    <tr>\n",
       "      <th>21:30:00</th>\n",
       "      <td>2.827433</td>\n",
       "      <td>0.325</td>\n",
       "      <td>26.5</td>\n",
       "      <td>49</td>\n",
       "    </tr>\n",
       "    <tr>\n",
       "      <th>22:00:00</th>\n",
       "      <td>2.827433</td>\n",
       "      <td>0.125</td>\n",
       "      <td>26.0</td>\n",
       "      <td>50</td>\n",
       "    </tr>\n",
       "  </tbody>\n",
       "</table>\n",
       "</div>"
      ],
      "text/plain": [
       "             Theta    Rho  Temperature  Humidity\n",
       "14:00:00  5.829400  0.425         35.0        28\n",
       "14:30:00  5.497787  0.500         35.0        28\n",
       "15:00:00  5.497787  0.625         35.5        28\n",
       "15:30:00  5.619960  0.550         35.0        26\n",
       "16:00:00  5.497787  0.500         35.0        25\n",
       "16:30:00  5.654867  0.500         35.5        25\n",
       "17:00:00  5.497787  0.500         36.0        24\n",
       "17:30:00  5.497787  0.425         36.7        24\n",
       "18:00:00  5.829400  0.375         36.0        25\n",
       "18:30:00  2.129302  0.250         35.0        35\n",
       "19:00:00  2.652900  0.675         32.0        45\n",
       "19:30:00  2.513274  0.800         30.0        48\n",
       "20:00:00  2.443461  0.650         28.0        48\n",
       "20:30:00  2.513274  0.675         27.5        48\n",
       "21:00:00  2.792527  0.425         27.0        49\n",
       "21:30:00  2.827433  0.325         26.5        49\n",
       "22:00:00  2.827433  0.125         26.0        50"
      ]
     },
     "execution_count": 3,
     "metadata": {},
     "output_type": "execute_result"
    }
   ],
   "source": [
    "df_input"
   ]
  },
  {
   "cell_type": "code",
   "execution_count": 4,
   "metadata": {},
   "outputs": [],
   "source": [
    "last_layer = torch.Tensor(grid_incendio[:, :, -1]) \n",
    "target_s = (last_layer==0)*1.\n",
    "target_d = (last_layer==2)*1."
   ]
  },
  {
   "attachments": {},
   "cell_type": "markdown",
   "metadata": {},
   "source": [
    "# 2. Creamos nuestro GRID AI"
   ]
  },
  {
   "cell_type": "code",
   "execution_count": 5,
   "metadata": {},
   "outputs": [
    {
     "name": "stdout",
     "output_type": "stream",
     "text": [
      "Number epoch:  0\n"
     ]
    },
    {
     "ename": "RuntimeError",
     "evalue": "element 0 of tensors does not require grad and does not have a grad_fn",
     "output_type": "error",
     "traceback": [
      "\u001b[1;31m---------------------------------------------------------------------------\u001b[0m",
      "\u001b[1;31mRuntimeError\u001b[0m                              Traceback (most recent call last)",
      "\u001b[1;32mc:\\Users\\joanb\\Desktop\\PyTorch\\prueba_2.ipynb Cell 7\u001b[0m in \u001b[0;36m<cell line: 4>\u001b[1;34m()\u001b[0m\n\u001b[0;32m      <a href='vscode-notebook-cell:/c%3A/Users/joanb/Desktop/PyTorch/prueba_2.ipynb#W6sZmlsZQ%3D%3D?line=1'>2</a>\u001b[0m grid\u001b[39m.\u001b[39m__param__(inc\u001b[39m=\u001b[39m\u001b[39m1\u001b[39m, partition\u001b[39m=\u001b[39m[\u001b[39m0.1\u001b[39m, \u001b[39m0.5\u001b[39m, \u001b[39m0.9\u001b[39m])\n\u001b[0;32m      <a href='vscode-notebook-cell:/c%3A/Users/joanb/Desktop/PyTorch/prueba_2.ipynb#W6sZmlsZQ%3D%3D?line=2'>3</a>\u001b[0m grid\u001b[39m.\u001b[39mload_data(data\u001b[39m=\u001b[39mdf_input)\n\u001b[1;32m----> <a href='vscode-notebook-cell:/c%3A/Users/joanb/Desktop/PyTorch/prueba_2.ipynb#W6sZmlsZQ%3D%3D?line=3'>4</a>\u001b[0m grid\u001b[39m.\u001b[39;49mAI_MonteCarlo(input_size\u001b[39m=\u001b[39;49m\u001b[39m2\u001b[39;49m, target_s\u001b[39m=\u001b[39;49mlast_layer)\n",
      "File \u001b[1;32mc:\\Users\\joanb\\Desktop\\PyTorch\\torch_smodel.py:647\u001b[0m, in \u001b[0;36mAI_Grid.AI_MonteCarlo\u001b[1;34m(self, input_size, target_s, target_d, n_it, tau, epochs)\u001b[0m\n\u001b[0;32m    643\u001b[0m l\u001b[39m.\u001b[39mappend(loss\u001b[39m.\u001b[39mitem())\n\u001b[0;32m    645\u001b[0m \u001b[39m#print(self.l1, self.l2)\u001b[39;00m\n\u001b[1;32m--> 647\u001b[0m loss\u001b[39m.\u001b[39;49mbackward()\n\u001b[0;32m    649\u001b[0m opt\u001b[39m.\u001b[39mstep()\n\u001b[0;32m    651\u001b[0m \u001b[39mif\u001b[39;00m \u001b[39mnot\u001b[39;00m epoch \u001b[39m%\u001b[39m log_each:\n",
      "File \u001b[1;32mc:\\Users\\joanb\\AppData\\Local\\Programs\\Python\\Python310\\lib\\site-packages\\torch\\_tensor.py:396\u001b[0m, in \u001b[0;36mTensor.backward\u001b[1;34m(self, gradient, retain_graph, create_graph, inputs)\u001b[0m\n\u001b[0;32m    387\u001b[0m \u001b[39mif\u001b[39;00m has_torch_function_unary(\u001b[39mself\u001b[39m):\n\u001b[0;32m    388\u001b[0m     \u001b[39mreturn\u001b[39;00m handle_torch_function(\n\u001b[0;32m    389\u001b[0m         Tensor\u001b[39m.\u001b[39mbackward,\n\u001b[0;32m    390\u001b[0m         (\u001b[39mself\u001b[39m,),\n\u001b[1;32m   (...)\u001b[0m\n\u001b[0;32m    394\u001b[0m         create_graph\u001b[39m=\u001b[39mcreate_graph,\n\u001b[0;32m    395\u001b[0m         inputs\u001b[39m=\u001b[39minputs)\n\u001b[1;32m--> 396\u001b[0m torch\u001b[39m.\u001b[39;49mautograd\u001b[39m.\u001b[39;49mbackward(\u001b[39mself\u001b[39;49m, gradient, retain_graph, create_graph, inputs\u001b[39m=\u001b[39;49minputs)\n",
      "File \u001b[1;32mc:\\Users\\joanb\\AppData\\Local\\Programs\\Python\\Python310\\lib\\site-packages\\torch\\autograd\\__init__.py:173\u001b[0m, in \u001b[0;36mbackward\u001b[1;34m(tensors, grad_tensors, retain_graph, create_graph, grad_variables, inputs)\u001b[0m\n\u001b[0;32m    168\u001b[0m     retain_graph \u001b[39m=\u001b[39m create_graph\n\u001b[0;32m    170\u001b[0m \u001b[39m# The reason we repeat same the comment below is that\u001b[39;00m\n\u001b[0;32m    171\u001b[0m \u001b[39m# some Python versions print out the first line of a multi-line function\u001b[39;00m\n\u001b[0;32m    172\u001b[0m \u001b[39m# calls in the traceback and some print out the last line\u001b[39;00m\n\u001b[1;32m--> 173\u001b[0m Variable\u001b[39m.\u001b[39;49m_execution_engine\u001b[39m.\u001b[39;49mrun_backward(  \u001b[39m# Calls into the C++ engine to run the backward pass\u001b[39;49;00m\n\u001b[0;32m    174\u001b[0m     tensors, grad_tensors_, retain_graph, create_graph, inputs,\n\u001b[0;32m    175\u001b[0m     allow_unreachable\u001b[39m=\u001b[39;49m\u001b[39mTrue\u001b[39;49;00m, accumulate_grad\u001b[39m=\u001b[39;49m\u001b[39mTrue\u001b[39;49;00m)\n",
      "\u001b[1;31mRuntimeError\u001b[0m: element 0 of tensors does not require grad and does not have a grad_fn"
     ]
    }
   ],
   "source": [
    "grid = AI_Grid(N=31, K=17)\n",
    "grid.__param__(inc=1, partition=[0.1, 0.5, 0.9])\n",
    "grid.load_data(data=df_input)\n",
    "grid.AI_MonteCarlo(input_size=2, target_s=last_layer)"
   ]
  },
  {
   "cell_type": "code",
   "execution_count": null,
   "metadata": {},
   "outputs": [
    {
     "data": {
      "text/plain": [
       "(tensor([0.2907, 0.2907, 0.2926, 0.3165, 0.3298, 0.3318, 0.3475, 0.3504, 0.3338,\n",
       "         0.2110, 0.1210, 0.0995, 0.0963, 0.0956, 0.0897, 0.0889, 0.0834],\n",
       "        dtype=torch.float64, grad_fn=<ToCopyBackward0>),\n",
       " tensor([2.6704, 2.6704, 2.6562, 2.4494, 2.3389, 2.3248, 2.2002, 2.1804, 2.3106,\n",
       "         3.4437, 4.6333, 5.0213, 5.0779, 5.0920, 5.2167, 5.2308, 5.3554],\n",
       "        dtype=torch.float64, grad_fn=<ToCopyBackward0>))"
      ]
     },
     "execution_count": 10,
     "metadata": {},
     "output_type": "execute_result"
    }
   ],
   "source": [
    "grid.p0, grid.div"
   ]
  },
  {
   "cell_type": "code",
   "execution_count": null,
   "metadata": {},
   "outputs": [
    {
     "data": {
      "text/plain": [
       "torch.Size([31, 31, 18])"
      ]
     },
     "execution_count": 11,
     "metadata": {},
     "output_type": "execute_result"
    }
   ],
   "source": [
    "grid.X0.shape"
   ]
  }
 ],
 "metadata": {
  "kernelspec": {
   "display_name": "Python 3",
   "language": "python",
   "name": "python3"
  },
  "language_info": {
   "codemirror_mode": {
    "name": "ipython",
    "version": 3
   },
   "file_extension": ".py",
   "mimetype": "text/x-python",
   "name": "python",
   "nbconvert_exporter": "python",
   "pygments_lexer": "ipython3",
   "version": "3.10.4"
  },
  "orig_nbformat": 4,
  "vscode": {
   "interpreter": {
    "hash": "f8852db887e4898adf41e8dfeeeb2275e3a600f3c56ac76bec9205a61cab2c77"
   }
  }
 },
 "nbformat": 4,
 "nbformat_minor": 2
}
